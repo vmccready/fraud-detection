{
 "cells": [
  {
   "cell_type": "code",
   "execution_count": 1,
   "id": "modified-jason",
   "metadata": {},
   "outputs": [],
   "source": [
    "import pandas as pd\n",
    "import numpy as np\n"
   ]
  },
  {
   "cell_type": "code",
   "execution_count": 2,
   "id": "experienced-tuning",
   "metadata": {},
   "outputs": [],
   "source": [
    "# Get the training data\n",
    "df = pd.read_json('data/data.json')"
   ]
  },
  {
   "cell_type": "code",
   "execution_count": 3,
   "id": "attended-harvard",
   "metadata": {},
   "outputs": [],
   "source": [
    "import src.pipeline as pipeline\n",
    "from src.model import create_model\n",
    "from src.predict import predict"
   ]
  },
  {
   "cell_type": "code",
   "execution_count": 4,
   "id": "plain-cambridge",
   "metadata": {
    "scrolled": true
   },
   "outputs": [],
   "source": [
    "# Output model to models folder\n",
    "model_path = 'models/rf_1.pickle'\n",
    "create_model(df, pipeline, model_path)"
   ]
  },
  {
   "cell_type": "code",
   "execution_count": 6,
   "id": "unexpected-channels",
   "metadata": {},
   "outputs": [],
   "source": [
    "api_df =  pd.read_json('data/api_data.json') "
   ]
  },
  {
   "cell_type": "code",
   "execution_count": 7,
   "id": "extensive-appendix",
   "metadata": {},
   "outputs": [],
   "source": [
    "p = predict(api_df, pipeline, model_path)"
   ]
  },
  {
   "cell_type": "code",
   "execution_count": 9,
   "id": "reliable-planet",
   "metadata": {},
   "outputs": [
    {
     "data": {
      "text/plain": [
       "array([[1.        , 0.        ],\n",
       "       [0.28      , 0.72      ],\n",
       "       [1.        , 0.        ],\n",
       "       [0.61      , 0.39      ],\n",
       "       [1.        , 0.        ],\n",
       "       [0.96      , 0.04      ],\n",
       "       [0.99666667, 0.00333333],\n",
       "       [1.        , 0.        ],\n",
       "       [1.        , 0.        ],\n",
       "       [0.12289504, 0.87710496],\n",
       "       [0.26      , 0.74      ],\n",
       "       [1.        , 0.        ],\n",
       "       [1.        , 0.        ],\n",
       "       [1.        , 0.        ],\n",
       "       [1.        , 0.        ],\n",
       "       [0.135     , 0.865     ],\n",
       "       [1.        , 0.        ],\n",
       "       [1.        , 0.        ]])"
      ]
     },
     "execution_count": 9,
     "metadata": {},
     "output_type": "execute_result"
    }
   ],
   "source": [
    "p"
   ]
  },
  {
   "cell_type": "code",
   "execution_count": null,
   "id": "distinct-russell",
   "metadata": {},
   "outputs": [],
   "source": []
  }
 ],
 "metadata": {
  "kernelspec": {
   "display_name": "Python 3",
   "language": "python",
   "name": "python3"
  },
  "language_info": {
   "codemirror_mode": {
    "name": "ipython",
    "version": 3
   },
   "file_extension": ".py",
   "mimetype": "text/x-python",
   "name": "python",
   "nbconvert_exporter": "python",
   "pygments_lexer": "ipython3",
   "version": "3.8.8"
  }
 },
 "nbformat": 4,
 "nbformat_minor": 5
}
