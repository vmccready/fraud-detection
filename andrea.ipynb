{
 "cells": [
  {
   "cell_type": "code",
   "execution_count": 118,
   "metadata": {},
   "outputs": [
    {
     "name": "stdout",
     "output_type": "stream",
     "text": [
      "Number: 12 \n",
      "\n",
      "Variables with missing values:\n",
      "['country', 'delivery_method', 'event_published', 'has_header', 'org_facebook', 'org_twitter', 'sale_duration', 'venue_country', 'venue_latitude', 'venue_longitude', 'venue_name', 'venue_state']\n",
      " Floats: ['delivery_method', 'event_published', 'gts', 'has_header', 'org_facebook', 'org_twitter', 'sale_duration', 'venue_latitude', 'venue_longitude'] \n",
      "\n",
      " Ints: ['approx_payout_date', 'body_length', 'channels', 'event_created', 'event_end', 'event_start', 'fb_published', 'has_analytics', 'has_logo', 'name_length', 'num_order', 'num_payouts', 'object_id', 'sale_duration2', 'show_map', 'user_age', 'user_created', 'user_type', 'fraud'] \n",
      "\n",
      " Objects: ['acct_type', 'country', 'currency', 'description', 'email_domain', 'listed', 'name', 'org_desc', 'org_name', 'payee_name', 'payout_type', 'previous_payouts', 'ticket_types', 'venue_address', 'venue_country', 'venue_name', 'venue_state']\n"
     ]
    }
   ],
   "source": [
    "# ---------------------------------------------------------\n",
    "# EDA \n",
    "# ---------------------------------------------------------\n",
    "# Imports \n",
    "import json  \n",
    "import zipfile  \n",
    "\n",
    "import pandas as pd\n",
    "import matplotlib.pyplot as plt\n",
    "\n",
    "from sklearn.model_selection import train_test_split\n",
    "\n",
    "\n",
    "\n",
    "%matplotlib inline \n",
    "\n",
    "\n",
    "# That Data\n",
    "df = pd.read_json('../data.json')\n",
    "# df.head()\n",
    "\n",
    "# Make fraud column \n",
    "df['fraud'] = df.acct_type.apply(lambda x: 1 if 'fraud' in x else 0)\n",
    "df['fraud'] = (df['acct_type'] == 'fraud').astype(int)\n",
    "# Get columns \n",
    "columns = list(df.columns)\n",
    "\n",
    "# See What they looks like \n",
    "# df.info()\n",
    "\n",
    "# Get missing varaiabels \n",
    "missing_values = []\n",
    "for col in columns:\n",
    "    if df[col].isna().any():\n",
    "        missing_values.append(col)\n",
    "        \n",
    "print(f'Number: {len(missing_values)} \\n\\nVariables with missing values:\\n{missing_values}')\n",
    "\n",
    "# get variabels by type \n",
    "var_floats = []\n",
    "var_ints = []\n",
    "var_objects = []\n",
    "\n",
    "for col in columns:\n",
    "    if df[col].dtype == 'int64':\n",
    "        var_ints.append(col)\n",
    "    elif df[col].dtype == 'float64':\n",
    "        var_floats.append(col)\n",
    "    else:\n",
    "        var_objects.append(col)\n",
    "\n",
    "print(f' Floats: {var_floats} \\n\\n Ints: {var_ints} \\n\\n Objects: {var_objects}')"
   ]
  },
  {
   "cell_type": "code",
   "execution_count": 119,
   "metadata": {},
   "outputs": [],
   "source": [
    "# X is features, y is target. Returns a cross tab of predicted \n",
    "# and actual values for fraud vs not fraud\n",
    "def get_crosstab(X, y, model_type):\n",
    "    Xtrain, Xtest, ytrain, ytest = train_test_split(X, y)\n",
    "    model = model_type\n",
    "    model.fit(Xtrain, ytrain)\n",
    "    predicted = model.predict(Xtest)\n",
    "    actual = ytest\n",
    "    crosstab = pd.crosstab(ytest, model.predict(Xtest), rownames=['actual'], colnames=['predicted'])\n",
    "    return model, crosstab"
   ]
  },
  {
   "cell_type": "code",
   "execution_count": 53,
   "metadata": {},
   "outputs": [
    {
     "data": {
      "text/html": [
       "<div>\n",
       "<style scoped>\n",
       "    .dataframe tbody tr th:only-of-type {\n",
       "        vertical-align: middle;\n",
       "    }\n",
       "\n",
       "    .dataframe tbody tr th {\n",
       "        vertical-align: top;\n",
       "    }\n",
       "\n",
       "    .dataframe thead th {\n",
       "        text-align: right;\n",
       "    }\n",
       "</style>\n",
       "<table border=\"1\" class=\"dataframe\">\n",
       "  <thead>\n",
       "    <tr style=\"text-align: right;\">\n",
       "      <th>predicted</th>\n",
       "      <th>Fraud</th>\n",
       "      <th>Not</th>\n",
       "    </tr>\n",
       "    <tr>\n",
       "      <th>actual</th>\n",
       "      <th></th>\n",
       "      <th></th>\n",
       "    </tr>\n",
       "  </thead>\n",
       "  <tbody>\n",
       "    <tr>\n",
       "      <th>Fraud</th>\n",
       "      <td>237</td>\n",
       "      <td>70</td>\n",
       "    </tr>\n",
       "    <tr>\n",
       "      <th>Not</th>\n",
       "      <td>24</td>\n",
       "      <td>3254</td>\n",
       "    </tr>\n",
       "  </tbody>\n",
       "</table>\n",
       "</div>"
      ],
      "text/plain": [
       "predicted  Fraud   Not\n",
       "actual                \n",
       "Fraud        237    70\n",
       "Not           24  3254"
      ]
     },
     "execution_count": 53,
     "metadata": {},
     "output_type": "execute_result"
    }
   ],
   "source": [
    "# Use the features previous payout and user age to make \n",
    "# the FIRST MODEL, a logistic regression model\n",
    "import pickle\n",
    "from sklearn.linear_model import LogisticRegression\n",
    "\n",
    "mask = df.previous_payouts.apply(lambda x: 0 if len(x) <= 0 else 1)\n",
    "# df['previous_payouts'].isnotnull().astype(int)\n",
    "df['mask_previous_payout'] = mask\n",
    "X = df[['mask_previous_payout', 'user_age']]\n",
    "y = df['fraud'].apply(lambda x: 'Fraud' if x == 1 else 'Not')\n",
    "\n",
    "model, crosstab = get_crosstab(X, y, LogisticRegression())\n",
    "Xtrain, Xtest, ytrain, ytest = train_test_split(X, y)\n",
    "crosstab\n",
    "# model_path = './models/model.pickle'\n",
    "# pickle.dump(model, open(model_path, 'wb'))"
   ]
  },
  {
   "cell_type": "code",
   "execution_count": 120,
   "metadata": {},
   "outputs": [],
   "source": [
    "def not_premium(x):\n",
    "    return 1 if x.lower() != 'premium' else 0\n",
    "\n",
    "def no_previous_payout(x):\n",
    "    return 1 if len(x) <= 0 else 0\n",
    "\n",
    "def payout_name_flag(x):\n",
    "    for d in x:\n",
    "        if len(d['name']) > 3:\n",
    "            return 1\n",
    "    return 0\n",
    "\n",
    "def payout_toself(payee, payouts):\n",
    "    for pay in payouts:\n",
    "        if payee.lower() in pay['name'].lower():\n",
    "            return 1\n",
    "    return 0\n",
    "\n",
    "# ---------------------------------------------------------------------------\n",
    "# End Funtions \n",
    "# ---------------------------------------------------------------------------\n",
    "# \n",
    "temp = dict()\n",
    "temp = {'target': df['fraud'].copy(), \n",
    "        'previous_payout': df.previous_payouts.apply(lambda x: no_previous_payout(x)),\n",
    "#         'premium': df.acct_type.apply(lambda x: not_premium(x)),\n",
    "        'no_payout_name': df.previous_payouts.apply(lambda x: payout_name_flag(x)),\n",
    "        'payout_toself': df.apply(lambda x: payout_toself(x.payee_name, x.previous_payouts), axis = 1),\n",
    "        'account_type' : df['user_type'],\n",
    "        'delivery_method' : df['delivery_method']\n",
    "       }\n",
    "\n",
    "\n",
    "df_model = pd.DataFrame(temp)\n",
    "# we filled nan values with 0 because more fradulent users \n",
    "# had missing values, and most fradulant users \n",
    "# have a delivery method of 0\n",
    "df_model['delivery_method'] = df['delivery_method'].fillna(0)\n",
    "# venue name "
   ]
  },
  {
   "cell_type": "code",
   "execution_count": 121,
   "metadata": {},
   "outputs": [
    {
     "data": {
      "text/plain": [
       "Index(['previous_payout', 'no_payout_name', 'payout_toself', 'account_type',\n",
       "       'delivery_method', 'user_age'],\n",
       "      dtype='object')"
      ]
     },
     "execution_count": 121,
     "metadata": {},
     "output_type": "execute_result"
    }
   ],
   "source": [
    "X = df_model.drop('target', axis = 1)\n",
    "X['user_age'] = df['user_age']\n",
    "y = df_model['target']\n",
    "y = y.apply(lambda x: 'Fraud' if x == 1 else 'Not')\n",
    "\n",
    "X.columns\n"
   ]
  },
  {
   "cell_type": "code",
   "execution_count": 122,
   "metadata": {},
   "outputs": [
    {
     "data": {
      "text/html": [
       "<div>\n",
       "<style scoped>\n",
       "    .dataframe tbody tr th:only-of-type {\n",
       "        vertical-align: middle;\n",
       "    }\n",
       "\n",
       "    .dataframe tbody tr th {\n",
       "        vertical-align: top;\n",
       "    }\n",
       "\n",
       "    .dataframe thead th {\n",
       "        text-align: right;\n",
       "    }\n",
       "</style>\n",
       "<table border=\"1\" class=\"dataframe\">\n",
       "  <thead>\n",
       "    <tr style=\"text-align: right;\">\n",
       "      <th>predicted</th>\n",
       "      <th>Fraud</th>\n",
       "      <th>Not</th>\n",
       "    </tr>\n",
       "    <tr>\n",
       "      <th>actual</th>\n",
       "      <th></th>\n",
       "      <th></th>\n",
       "    </tr>\n",
       "  </thead>\n",
       "  <tbody>\n",
       "    <tr>\n",
       "      <th>Fraud</th>\n",
       "      <td>257</td>\n",
       "      <td>67</td>\n",
       "    </tr>\n",
       "    <tr>\n",
       "      <th>Not</th>\n",
       "      <td>42</td>\n",
       "      <td>3219</td>\n",
       "    </tr>\n",
       "  </tbody>\n",
       "</table>\n",
       "</div>"
      ],
      "text/plain": [
       "predicted  Fraud   Not\n",
       "actual                \n",
       "Fraud        257    67\n",
       "Not           42  3219"
      ]
     },
     "execution_count": 122,
     "metadata": {},
     "output_type": "execute_result"
    }
   ],
   "source": [
    "from sklearn.tree import DecisionTreeClassifier\n",
    "model, crosstab = get_crosstab(X, y, DecisionTreeClassifier())\n",
    "crosstab"
   ]
  },
  {
   "cell_type": "code",
   "execution_count": 123,
   "metadata": {},
   "outputs": [],
   "source": [
    "# make predictions with a given model, setting the threshold to \n",
    "# a probability of you choice between (0, 1)\n",
    "def predict(model, X, threshold=0.5):\n",
    "    '''Return prediction of the fitted binary-classifier model model on X using\n",
    "    the specifed `threshold`. NB: class 0 is the positive class'''\n",
    "    return np.where(model.predict_proba(X)[:, 0] > threshold,\n",
    "                    model.classes_[0],\n",
    "                    model.classes_[1])\n",
    "\n",
    "# create confusion matrix with a given model and Xtest\n",
    "def confusion_matrix(model, X, threshold=0.5):\n",
    "    cf = pd.crosstab(ytest, predict(model, Xtest, threshold), dropna=False)\n",
    "    cf = cf.add(pd.DataFrame([[0,0],[0,0]], columns=['Fraud', 'Not'], index=['Fraud', 'Not']), fill_value=0)\n",
    "    cf.index.name = 'actual'\n",
    "    cf.columns.name = 'predicted'\n",
    "    return cf\n",
    "\n",
    "# calculate the payout for a given probability threshold\n",
    "def calculate_payout(cb_matrix, model, X, threshold):\n",
    "    return (confusion_matrix(model, X, threshold) * cb_matrix).values.sum()\n",
    "\n"
   ]
  },
  {
   "cell_type": "code",
   "execution_count": 128,
   "metadata": {},
   "outputs": [],
   "source": [
    "import numpy as np\n",
    "\n",
    "\n",
    "def profit_curve(model, X):\n",
    "    cb_matrix = pd.DataFrame([[0, -20], [-5, 0]], columns=[\"Fraud\", \"Not\"], index=[\"Fraud\", \"Not\"])\n",
    "    cb_matrix.index.name = 'actual'\n",
    "    cb_matrix.columns.name = 'predicted'\n",
    "    # calculate the payout with a the cost benefit matrix, \n",
    "    # given threshhold, model, and X\n",
    "    thresholds = np.arange(0.0, 1.0, 0.01)\n",
    "    profits = []\n",
    "    for threshold in thresholds:\n",
    "        profits.append(calculate_payout(cb_matrix, model, X, threshold))\n",
    "    fig, ax = plt.subplots(figsize=(12, 8))\n",
    "    ax.plot(thresholds, profits)\n",
    "    ax.set_xlabel('Thresholds')\n",
    "    ax.set_ylabel('Profits')\n",
    "    ax.set_title('Profit Curve')\n",
    "\n"
   ]
  },
  {
   "cell_type": "code",
   "execution_count": 129,
   "metadata": {
    "scrolled": true
   },
   "outputs": [
    {
     "data": {
      "image/png": "[encoded data removed]",
      "text/plain": [
       "<Figure size 864x576 with 1 Axes>"
      ]
     },
     "metadata": {
      "needs_background": "light"
     },
     "output_type": "display_data"
    }
   ],
   "source": [
    "profit_curve(model, X)"
   ]
  },
  {
   "cell_type": "code",
   "execution_count": 130,
   "metadata": {},
   "outputs": [
    {
     "data": {
      "image/png": "[encoded data removed]",
      "text/plain": [
       "<Figure size 864x576 with 1 Axes>"
      ]
     },
     "metadata": {
      "needs_background": "light"
     },
     "output_type": "display_data"
    }
   ],
   "source": [
    "profit_curve(model, X)"
   ]
  },
  {
   "cell_type": "code",
   "execution_count": 117,
   "metadata": {},
   "outputs": [
    {
     "data": {
      "text/plain": [
       "array([[0., 1.],\n",
       "       [0., 1.],\n",
       "       [0., 1.],\n",
       "       ...,\n",
       "       [0., 1.],\n",
       "       [0., 1.],\n",
       "       [0., 1.]])"
      ]
     },
     "execution_count": 117,
     "metadata": {},
     "output_type": "execute_result"
    }
   ],
   "source": [
    "import numpy as np\n",
    "Xtrain, Xtest, ytrain, ytest = train_test_split(X, y)\n",
    "model.predict_proba(Xtest)\n"
   ]
  },
  {
   "cell_type": "code",
   "execution_count": 116,
   "metadata": {},
   "outputs": [
    {
     "name": "stdout",
     "output_type": "stream",
     "text": [
      "[[0.97267806 0.02732194]\n",
      " [0.97267806 0.02732194]\n",
      " [0.97267806 0.02732194]\n",
      " ...\n",
      " [0.97267806 0.02732194]\n",
      " [0.97267806 0.02732194]\n",
      " [0.98878235 0.01121765]]\n"
     ]
    },
    {
     "data": {
      "text/plain": [
       "(LogisticRegression(),\n",
       " predicted     0    1\n",
       " actual              \n",
       " 0          3235   14\n",
       " 1            75  261)"
      ]
     },
     "execution_count": 116,
     "metadata": {},
     "output_type": "execute_result"
    }
   ],
   "source": [
    "get_crosstab(X, y, LogisticRegression())"
   ]
  },
  {
   "cell_type": "code",
   "execution_count": 112,
   "metadata": {},
   "outputs": [
    {
     "data": {
      "text/plain": [
       "Not      13044\n",
       "Fraud     1293\n",
       "Name: fraud, dtype: int64"
      ]
     },
     "execution_count": 112,
     "metadata": {},
     "output_type": "execute_result"
    }
   ],
   "source": [
    "# Fraud\t248\t70\n",
    "# Not\t24\t3243\n",
    "y.value_counts()\n"
   ]
  },
  {
   "cell_type": "code",
   "execution_count": 133,
   "metadata": {},
   "outputs": [
    {
     "name": "stdout",
     "output_type": "stream",
     "text": [
      "[[0.99484618 0.00515382]\n",
      " [0.9575325  0.0424675 ]\n",
      " [0.98869129 0.01130871]\n",
      " ...\n",
      " [0.96787737 0.03212263]\n",
      " [0.07764601 0.92235399]\n",
      " [0.97735809 0.02264191]]\n"
     ]
    },
    {
     "data": {
      "text/plain": [
       "(LogisticRegression(),\n",
       " predicted     0    1\n",
       " actual              \n",
       " 0          3242   26\n",
       " 1            71  246)"
      ]
     },
     "execution_count": 133,
     "metadata": {},
     "output_type": "execute_result"
    }
   ],
   "source": [
    "# is the users country the same as the one the event is in if their \n",
    "# a new user \n",
    "get_crosstab(X, y, LogisticRegression())"
   ]
  },
  {
   "cell_type": "code",
   "execution_count": 137,
   "metadata": {},
   "outputs": [
    {
     "name": "stdout",
     "output_type": "stream",
     "text": [
      "[[9.99529266e-01 4.70733559e-04]\n",
      " [9.98701231e-01 1.29876945e-03]\n",
      " [9.98715810e-01 1.28419009e-03]\n",
      " ...\n",
      " [7.03066617e-01 2.96933383e-01]\n",
      " [9.99272197e-01 7.27803397e-04]\n",
      " [9.98719945e-01 1.28005466e-03]]\n"
     ]
    },
    {
     "data": {
      "text/plain": [
       "Index(['previous_payout', 'premium', 'no_payout_name', 'payout_toself',\n",
       "       'user_age'],\n",
       "      dtype='object')"
      ]
     },
     "execution_count": 137,
     "metadata": {},
     "output_type": "execute_result"
    }
   ],
   "source": [
    "\n",
    "get_crosstab(X, y, LogisticRegression())\n",
    "X.columns"
   ]
  },
  {
   "cell_type": "code",
   "execution_count": 89,
   "metadata": {},
   "outputs": [],
   "source": [
    "import numpy as np\n",
    "cb_matrix = pd.DataFrame([[0, -20], [-5, 0]], columns=[\"Fraud\", \"Not\"], index=[\"Fraud\", \"Not\"])\n",
    "cb_matrix.index.name = 'actual'\n",
    "cb_matrix.columns.name = 'predicted'\n",
    "cb_matrix\n",
    "\n",
    "def calculate_payout(cb_matrix, model, X, threshold):\n",
    "    return (confusion_matrix(model, X, threshold) * cb_matrix).values.sum()\n",
    "    thresholds = np.arange(0.0, 1.0, 0.01)\n",
    "    profits = []\n",
    "    for threshold in thresholds:\n",
    "        profits.append(calculate_payout(cb_matrix, model, X, threshold))\n",
    "    fig, ax = plt.subplots(figsize=(12, 8))\n",
    "    ax.plot(thresholds, profits)\n",
    "    ax.set_xlabel('Thresholds')\n",
    "    ax.set_ylabel('Profits')\n",
    "    ax.set_title('Profit Curve')"
   ]
  },
  {
   "cell_type": "code",
   "execution_count": null,
   "metadata": {},
   "outputs": [],
   "source": []
  },
  {
   "cell_type": "code",
   "execution_count": 79,
   "metadata": {},
   "outputs": [
    {
     "data": {
      "text/plain": [
       "(RandomForestClassifier(),\n",
       " predicted  Fraud   Not\n",
       " actual                \n",
       " Fraud        251    75\n",
       " Not           29  3230)"
      ]
     },
     "execution_count": 79,
     "metadata": {},
     "output_type": "execute_result"
    }
   ],
   "source": [
    "from sklearn.ensemble import RandomForestClassifier\n",
    "get_crosstab(X, y, RandomForestClassifier())"
   ]
  },
  {
   "cell_type": "code",
   "execution_count": 141,
   "metadata": {},
   "outputs": [
    {
     "data": {
      "text/plain": [
       "array([0, 0, 0, ..., 1, 0, 0])"
      ]
     },
     "execution_count": 141,
     "metadata": {},
     "output_type": "execute_result"
    }
   ],
   "source": [
    "Xtrain, Xtest, ytrain, ytest = train_test_split(X, y)\n",
    "model = RandomForestClassifier()\n",
    "model.fit(Xtrain, ytrain)\n",
    "predicted = model.predict(Xtest)\n",
    "actual = ytest\n",
    "predicted\n",
    "    "
   ]
  },
  {
   "cell_type": "code",
   "execution_count": 172,
   "metadata": {},
   "outputs": [
    {
     "name": "stdout",
     "output_type": "stream",
     "text": [
      "[[1. 0.]\n",
      " [1. 0.]\n",
      " [1. 0.]\n",
      " ...\n",
      " [1. 0.]\n",
      " [1. 0.]\n",
      " [1. 0.]]\n"
     ]
    },
    {
     "data": {
      "text/plain": [
       "(RandomForestClassifier(),\n",
       " predicted     0    1\n",
       " actual              \n",
       " 0          3215   40\n",
       " 1            63  267)"
      ]
     },
     "execution_count": 172,
     "metadata": {},
     "output_type": "execute_result"
    }
   ],
   "source": [
    "# grid search with random forest classifier\n",
    "from sklearn.ensemble import RandomForestClassifier\n",
    "get_crosstab(X, y, RandomForestClassifier())"
   ]
  },
  {
   "cell_type": "code",
   "execution_count": 6,
   "metadata": {},
   "outputs": [
    {
     "data": {
      "text/plain": [
       "2338     Not\n",
       "8007     Not\n",
       "4286     Not\n",
       "8986     Not\n",
       "6469     Not\n",
       "        ... \n",
       "6418     Not\n",
       "11612    Not\n",
       "2762     Not\n",
       "11720    Not\n",
       "5765     Not\n",
       "Name: fraud, Length: 3585, dtype: object"
      ]
     },
     "execution_count": 6,
     "metadata": {},
     "output_type": "execute_result"
    }
   ],
   "source": [
    "# import pickle\n",
    "# from sklearn.linear_model import LogisticRegression\n",
    "\n",
    "# mask = df.previous_payouts.apply(lambda x: 0 if len(x) <= 0 else 1)\n",
    "# df['mask_previous_payout'] = mask\n",
    "# X = df[['mask_previous_payout', 'user_age']]\n",
    "# y = df['fraud'].apply(lambda x: 'Fraud' if x == 1 else 'Not')\n",
    "# Xtrain, Xtest, ytrain, ytest = train_test_split(X, y)\n",
    "# model = LogisticRegression()\n",
    "# model.fit(Xtrain, ytrain)\n",
    "# # predicted = model.predict(Xtest)\n",
    "# ytest"
   ]
  },
  {
   "cell_type": "code",
   "execution_count": 131,
   "metadata": {},
   "outputs": [
    {
     "data": {
      "text/plain": [
       "(46, 11, 286)"
      ]
     },
     "execution_count": 131,
     "metadata": {},
     "output_type": "execute_result"
    }
   ],
   "source": [
    "# Input threshholds for low risk of fraud (greater than lowrisk thresh \n",
    "# less than medrisk_thresh), medium risk, and high risk and which model\n",
    "# Returns the number of data points in each category\n",
    "def grouped_risk(lowrisk_thresh, medrisk_thresh, highrisk_thresh, model):\n",
    "    probs = model.predict_proba(Xtest)\n",
    "    bool1 = (probs[:, 0] > lowrisk_thresh) & (probs[:, 0] <= medrisk_thresh) \n",
    "    num_low = probs[bool1].shape[0]\n",
    "    bool2 = (probs[:, 0] > medrisk_thresh) & (probs[:, 0] <= highrisk_thresh) \n",
    "    num_med = probs[bool2].shape[0]\n",
    "    bool3 = (probs[:, 0] > highrisk_thresh) \n",
    "    num_high = probs[bool3].shape[0]\n",
    "    return num_low, num_med, num_high\n",
    "grouped_risk(0.2, 0.5, 0.8, model)\n",
    "    "
   ]
  },
  {
   "cell_type": "code",
   "execution_count": 54,
   "metadata": {},
   "outputs": [
    {
     "data": {
      "image/png": "[encoded data removed]",
      "text/plain": [
       "<Figure size 720x720 with 18 Axes>"
      ]
     },
     "metadata": {
      "needs_background": "light"
     },
     "output_type": "display_data"
    }
   ],
   "source": [
    "def plot(data, vars_, r, c):\n",
    "    fig, axs = plt.subplots(r, c, figsize = (10,10))\n",
    "\n",
    "    for i, ax in enumerate(axs.flatten()):\n",
    "        ax.hist(data[vars_[i]])\n",
    "        ax.set_xlabel(vars_[i])\n",
    "        ax.set_ylabel('freq')\n",
    "\n",
    "    plt.tight_layout()\n",
    "plot(df, var_ints, 6, 3)"
   ]
  },
  {
   "cell_type": "code",
   "execution_count": null,
   "metadata": {},
   "outputs": [],
   "source": []
  }
 ],
 "metadata": {
  "kernelspec": {
   "display_name": "Python 3",
   "language": "python",
   "name": "python3"
  },
  "language_info": {
   "codemirror_mode": {
    "name": "ipython",
    "version": 3
   },
   "file_extension": ".py",
   "mimetype": "text/x-python",
   "name": "python",
   "nbconvert_exporter": "python",
   "pygments_lexer": "ipython3",
   "version": "3.7.9"
  }
 },
 "nbformat": 4,
 "nbformat_minor": 4
}
