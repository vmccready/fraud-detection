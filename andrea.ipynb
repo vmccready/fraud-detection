{
 "cells": [
  {
   "cell_type": "code",
   "execution_count": 5,
   "metadata": {},
   "outputs": [
    {
     "name": "stdout",
     "output_type": "stream",
     "text": [
      "Number: 12 \n",
      "\n",
      "Variables with missing values:\n",
      "['country', 'delivery_method', 'event_published', 'has_header', 'org_facebook', 'org_twitter', 'sale_duration', 'venue_country', 'venue_latitude', 'venue_longitude', 'venue_name', 'venue_state']\n",
      " Floats: ['delivery_method', 'event_published', 'gts', 'has_header', 'org_facebook', 'org_twitter', 'sale_duration', 'venue_latitude', 'venue_longitude'] \n",
      "\n",
      " Ints: ['approx_payout_date', 'body_length', 'channels', 'event_created', 'event_end', 'event_start', 'fb_published', 'has_analytics', 'has_logo', 'name_length', 'num_order', 'num_payouts', 'object_id', 'sale_duration2', 'show_map', 'user_age', 'user_created', 'user_type', 'fraud'] \n",
      "\n",
      " Objects: ['acct_type', 'country', 'currency', 'description', 'email_domain', 'listed', 'name', 'org_desc', 'org_name', 'payee_name', 'payout_type', 'previous_payouts', 'ticket_types', 'venue_address', 'venue_country', 'venue_name', 'venue_state']\n"
     ]
    }
   ],
   "source": [
    "# ---------------------------------------------------------\n",
    "# EDA \n",
    "# ---------------------------------------------------------\n",
    "# Imports \n",
    "import json  \n",
    "import zipfile  \n",
    "\n",
    "import pandas as pd\n",
    "import matplotlib.pyplot as plt\n",
    "\n",
    "from sklearn.model_selection import train_test_split\n",
    "\n",
    "\n",
    "\n",
    "%matplotlib inline \n",
    "\n",
    "\n",
    "# That Data\n",
    "df = pd.read_json('../data.json')\n",
    "# df.head()\n",
    "\n",
    "# Make fraud column \n",
    "df['fraud'] = df.acct_type.apply(lambda x: 1 if 'fraud' in x else 0)\n",
    "\n",
    "# Get columns \n",
    "columns = list(df.columns)\n",
    "\n",
    "# See What they looks like \n",
    "# df.info()\n",
    "\n",
    "# Get missing varaiabels \n",
    "missing_values = []\n",
    "for col in columns:\n",
    "    if df[col].isna().any():\n",
    "        missing_values.append(col)\n",
    "        \n",
    "print(f'Number: {len(missing_values)} \\n\\nVariables with missing values:\\n{missing_values}')\n",
    "\n",
    "# get variabels by type \n",
    "var_floats = []\n",
    "var_ints = []\n",
    "var_objects = []\n",
    "\n",
    "for col in columns:\n",
    "    if df[col].dtype == 'int64':\n",
    "        var_ints.append(col)\n",
    "    elif df[col].dtype == 'float64':\n",
    "        var_floats.append(col)\n",
    "    else:\n",
    "        var_objects.append(col)\n",
    "\n",
    "print(f' Floats: {var_floats} \\n\\n Ints: {var_ints} \\n\\n Objects: {var_objects}')"
   ]
  },
  {
   "cell_type": "code",
   "execution_count": 3,
   "metadata": {},
   "outputs": [
    {
     "data": {
      "text/plain": [
       "['acct_type',\n",
       " 'approx_payout_date',\n",
       " 'body_length',\n",
       " 'channels',\n",
       " 'country',\n",
       " 'currency',\n",
       " 'delivery_method',\n",
       " 'description',\n",
       " 'email_domain',\n",
       " 'event_created',\n",
       " 'event_end',\n",
       " 'event_published',\n",
       " 'event_start',\n",
       " 'fb_published',\n",
       " 'gts',\n",
       " 'has_analytics',\n",
       " 'has_header',\n",
       " 'has_logo',\n",
       " 'listed',\n",
       " 'name',\n",
       " 'name_length',\n",
       " 'num_order',\n",
       " 'num_payouts',\n",
       " 'object_id',\n",
       " 'org_desc',\n",
       " 'org_facebook',\n",
       " 'org_name',\n",
       " 'org_twitter',\n",
       " 'payee_name',\n",
       " 'payout_type',\n",
       " 'previous_payouts',\n",
       " 'sale_duration',\n",
       " 'sale_duration2',\n",
       " 'show_map',\n",
       " 'ticket_types',\n",
       " 'user_age',\n",
       " 'user_created',\n",
       " 'user_type',\n",
       " 'venue_address',\n",
       " 'venue_country',\n",
       " 'venue_latitude',\n",
       " 'venue_longitude',\n",
       " 'venue_name',\n",
       " 'venue_state',\n",
       " 'fraud']"
      ]
     },
     "execution_count": 3,
     "metadata": {},
     "output_type": "execute_result"
    }
   ],
   "source": [
    "columns = list(df.columns)\n",
    "columns"
   ]
  },
  {
   "cell_type": "code",
   "execution_count": 25,
   "metadata": {},
   "outputs": [
    {
     "data": {
      "text/plain": [
       "0          36\n",
       "1         149\n",
       "2         214\n",
       "3         889\n",
       "4          35\n",
       "         ... \n",
       "14332       0\n",
       "14333    1374\n",
       "14334      84\n",
       "14335     812\n",
       "14336       0\n",
       "Name: user_age, Length: 14337, dtype: int64"
      ]
     },
     "execution_count": 25,
     "metadata": {},
     "output_type": "execute_result"
    }
   ],
   "source": [
    "# previous payouts really good indication of whether something is fraud\n",
    "# almost all that are not fraud have previous payouts\n",
    "df['user_age']"
   ]
  },
  {
   "cell_type": "code",
   "execution_count": 26,
   "metadata": {},
   "outputs": [
    {
     "data": {
      "text/html": [
       "<div>\n",
       "<style scoped>\n",
       "    .dataframe tbody tr th:only-of-type {\n",
       "        vertical-align: middle;\n",
       "    }\n",
       "\n",
       "    .dataframe tbody tr th {\n",
       "        vertical-align: top;\n",
       "    }\n",
       "\n",
       "    .dataframe thead th {\n",
       "        text-align: right;\n",
       "    }\n",
       "</style>\n",
       "<table border=\"1\" class=\"dataframe\">\n",
       "  <thead>\n",
       "    <tr style=\"text-align: right;\">\n",
       "      <th>predicted</th>\n",
       "      <th>0</th>\n",
       "      <th>1</th>\n",
       "    </tr>\n",
       "    <tr>\n",
       "      <th>actual</th>\n",
       "      <th></th>\n",
       "      <th></th>\n",
       "    </tr>\n",
       "  </thead>\n",
       "  <tbody>\n",
       "    <tr>\n",
       "      <th>0</th>\n",
       "      <td>3251</td>\n",
       "      <td>19</td>\n",
       "    </tr>\n",
       "    <tr>\n",
       "      <th>1</th>\n",
       "      <td>73</td>\n",
       "      <td>242</td>\n",
       "    </tr>\n",
       "  </tbody>\n",
       "</table>\n",
       "</div>"
      ],
      "text/plain": [
       "predicted     0    1\n",
       "actual              \n",
       "0          3251   19\n",
       "1            73  242"
      ]
     },
     "execution_count": 26,
     "metadata": {},
     "output_type": "execute_result"
    }
   ],
   "source": []
  },
  {
   "cell_type": "code",
   "execution_count": 8,
   "metadata": {},
   "outputs": [
    {
     "data": {
      "text/plain": [
       "0                                                       []\n",
       "1        [{'name': 'RUF', 'created': '2010-10-01 01:10:...\n",
       "2        [{'name': 'Danielle Severn', 'created': '2010-...\n",
       "3        [{'name': '', 'created': '2010-11-09 01:10:15'...\n",
       "4        [{'name': 'Arts and Business Council or Greate...\n",
       "                               ...                        \n",
       "14332                                                   []\n",
       "14333    [{'name': 'ARCS Foundation Inc., San Diego Cha...\n",
       "14334    [{'name': '', 'created': '2013-05-16 03:26:11'...\n",
       "14335    [{'name': '', 'created': '2010-11-30 01:11:30'...\n",
       "14336                                                   []\n",
       "Name: previous_payouts, Length: 14337, dtype: object"
      ]
     },
     "execution_count": 8,
     "metadata": {},
     "output_type": "execute_result"
    }
   ],
   "source": [
    "df['previous_payouts']"
   ]
  },
  {
   "cell_type": "code",
   "execution_count": 29,
   "metadata": {},
   "outputs": [],
   "source": [
    "# X is features, y is target. Returns a cross tab of predicted \n",
    "# and actual values for fraud vs not fraud\n",
    "def get_crosstab(X, y, model_type):\n",
    "    Xtrain, Xtest, ytrain, ytest = train_test_split(X, y)\n",
    "    model = model_type\n",
    "    model.fit(Xtrain, ytrain)\n",
    "    predicted = model.predict(Xtest)\n",
    "    actual = ytest\n",
    "    return pd.crosstab(ytest, model.predict(Xtest), rownames=['actual'], colnames=['predicted'])"
   ]
  },
  {
   "cell_type": "code",
   "execution_count": 30,
   "metadata": {},
   "outputs": [
    {
     "data": {
      "text/html": [
       "<div>\n",
       "<style scoped>\n",
       "    .dataframe tbody tr th:only-of-type {\n",
       "        vertical-align: middle;\n",
       "    }\n",
       "\n",
       "    .dataframe tbody tr th {\n",
       "        vertical-align: top;\n",
       "    }\n",
       "\n",
       "    .dataframe thead th {\n",
       "        text-align: right;\n",
       "    }\n",
       "</style>\n",
       "<table border=\"1\" class=\"dataframe\">\n",
       "  <thead>\n",
       "    <tr style=\"text-align: right;\">\n",
       "      <th>predicted</th>\n",
       "      <th>0</th>\n",
       "      <th>1</th>\n",
       "    </tr>\n",
       "    <tr>\n",
       "      <th>actual</th>\n",
       "      <th></th>\n",
       "      <th></th>\n",
       "    </tr>\n",
       "  </thead>\n",
       "  <tbody>\n",
       "    <tr>\n",
       "      <th>0</th>\n",
       "      <td>3225</td>\n",
       "      <td>25</td>\n",
       "    </tr>\n",
       "    <tr>\n",
       "      <th>1</th>\n",
       "      <td>77</td>\n",
       "      <td>258</td>\n",
       "    </tr>\n",
       "  </tbody>\n",
       "</table>\n",
       "</div>"
      ],
      "text/plain": [
       "predicted     0    1\n",
       "actual              \n",
       "0          3225   25\n",
       "1            77  258"
      ]
     },
     "execution_count": 30,
     "metadata": {},
     "output_type": "execute_result"
    }
   ],
   "source": [
    "from sklearn.linear_model import LogisticRegression\n",
    "\n",
    "mask = df.previous_payouts.apply(lambda x: 0 if len(x) <= 0 else 1)\n",
    "df['mask_previous_payout'] = mask\n",
    "X = df[['mask_previous_payout', 'user_age']]\n",
    "y = df['fraud']\n",
    "\n",
    "# get predict proba from both models, for each data point take average \n",
    "# probabilities. probs set at .5 by default\n",
    "\n",
    "get_crosstab(X, y, LogisticRegression())"
   ]
  },
  {
   "cell_type": "code",
   "execution_count": 31,
   "metadata": {},
   "outputs": [
    {
     "data": {
      "text/html": [
       "<div>\n",
       "<style scoped>\n",
       "    .dataframe tbody tr th:only-of-type {\n",
       "        vertical-align: middle;\n",
       "    }\n",
       "\n",
       "    .dataframe tbody tr th {\n",
       "        vertical-align: top;\n",
       "    }\n",
       "\n",
       "    .dataframe thead th {\n",
       "        text-align: right;\n",
       "    }\n",
       "</style>\n",
       "<table border=\"1\" class=\"dataframe\">\n",
       "  <thead>\n",
       "    <tr style=\"text-align: right;\">\n",
       "      <th>predicted</th>\n",
       "      <th>0</th>\n",
       "      <th>1</th>\n",
       "    </tr>\n",
       "    <tr>\n",
       "      <th>actual</th>\n",
       "      <th></th>\n",
       "      <th></th>\n",
       "    </tr>\n",
       "  </thead>\n",
       "  <tbody>\n",
       "    <tr>\n",
       "      <th>0</th>\n",
       "      <td>3240</td>\n",
       "      <td>18</td>\n",
       "    </tr>\n",
       "    <tr>\n",
       "      <th>1</th>\n",
       "      <td>73</td>\n",
       "      <td>254</td>\n",
       "    </tr>\n",
       "  </tbody>\n",
       "</table>\n",
       "</div>"
      ],
      "text/plain": [
       "predicted     0    1\n",
       "actual              \n",
       "0          3240   18\n",
       "1            73  254"
      ]
     },
     "execution_count": 31,
     "metadata": {},
     "output_type": "execute_result"
    }
   ],
   "source": [
    "from sklearn.tree import DecisionTreeClassifier\n",
    "get_crosstab(X, y, DecisionTreeClassifier())"
   ]
  },
  {
   "cell_type": "code",
   "execution_count": null,
   "metadata": {},
   "outputs": [],
   "source": [
    "# ROC curve "
   ]
  }
 ],
 "metadata": {
  "kernelspec": {
   "display_name": "Python 3",
   "language": "python",
   "name": "python3"
  },
  "language_info": {
   "codemirror_mode": {
    "name": "ipython",
    "version": 3
   },
   "file_extension": ".py",
   "mimetype": "text/x-python",
   "name": "python",
   "nbconvert_exporter": "python",
   "pygments_lexer": "ipython3",
   "version": "3.7.9"
  }
 },
 "nbformat": 4,
 "nbformat_minor": 4
}
