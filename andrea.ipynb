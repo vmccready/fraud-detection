{
 "cells": [
  {
   "cell_type": "code",
   "execution_count": 96,
   "metadata": {},
   "outputs": [
    {
     "name": "stdout",
     "output_type": "stream",
     "text": [
      "Number: 12 \n",
      "\n",
      "Variables with missing values:\n",
      "['country', 'delivery_method', 'event_published', 'has_header', 'org_facebook', 'org_twitter', 'sale_duration', 'venue_country', 'venue_latitude', 'venue_longitude', 'venue_name', 'venue_state']\n",
      " Floats: ['delivery_method', 'event_published', 'gts', 'has_header', 'org_facebook', 'org_twitter', 'sale_duration', 'venue_latitude', 'venue_longitude'] \n",
      "\n",
      " Ints: ['approx_payout_date', 'body_length', 'channels', 'event_created', 'event_end', 'event_start', 'fb_published', 'has_analytics', 'has_logo', 'name_length', 'num_order', 'num_payouts', 'object_id', 'sale_duration2', 'show_map', 'user_age', 'user_created', 'user_type', 'fraud'] \n",
      "\n",
      " Objects: ['acct_type', 'country', 'currency', 'description', 'email_domain', 'listed', 'name', 'org_desc', 'org_name', 'payee_name', 'payout_type', 'previous_payouts', 'ticket_types', 'venue_address', 'venue_country', 'venue_name', 'venue_state']\n"
     ]
    }
   ],
   "source": [
    "# ---------------------------------------------------------\n",
    "# EDA \n",
    "# ---------------------------------------------------------\n",
    "# Imports \n",
    "import json  \n",
    "import zipfile  \n",
    "\n",
    "import pandas as pd\n",
    "import matplotlib.pyplot as plt\n",
    "\n",
    "from sklearn.model_selection import train_test_split\n",
    "\n",
    "\n",
    "\n",
    "%matplotlib inline \n",
    "\n",
    "\n",
    "# That Data\n",
    "df = pd.read_json('../data.json')\n",
    "# df.head()\n",
    "\n",
    "# Make fraud column \n",
    "df['fraud'] = df.acct_type.apply(lambda x: 1 if 'fraud' in x else 0)\n",
    "\n",
    "# Get columns \n",
    "columns = list(df.columns)\n",
    "\n",
    "# See What they looks like \n",
    "# df.info()\n",
    "\n",
    "# Get missing varaiabels \n",
    "missing_values = []\n",
    "for col in columns:\n",
    "    if df[col].isna().any():\n",
    "        missing_values.append(col)\n",
    "        \n",
    "print(f'Number: {len(missing_values)} \\n\\nVariables with missing values:\\n{missing_values}')\n",
    "\n",
    "# get variabels by type \n",
    "var_floats = []\n",
    "var_ints = []\n",
    "var_objects = []\n",
    "\n",
    "for col in columns:\n",
    "    if df[col].dtype == 'int64':\n",
    "        var_ints.append(col)\n",
    "    elif df[col].dtype == 'float64':\n",
    "        var_floats.append(col)\n",
    "    else:\n",
    "        var_objects.append(col)\n",
    "\n",
    "print(f' Floats: {var_floats} \\n\\n Ints: {var_ints} \\n\\n Objects: {var_objects}')"
   ]
  },
  {
   "cell_type": "code",
   "execution_count": 118,
   "metadata": {},
   "outputs": [
    {
     "data": {
      "text/plain": [
       "['acct_type',\n",
       " 'approx_payout_date',\n",
       " 'body_length',\n",
       " 'channels',\n",
       " 'country',\n",
       " 'currency',\n",
       " 'delivery_method',\n",
       " 'description',\n",
       " 'email_domain',\n",
       " 'event_created',\n",
       " 'event_end',\n",
       " 'event_published',\n",
       " 'event_start',\n",
       " 'fb_published',\n",
       " 'gts',\n",
       " 'has_analytics',\n",
       " 'has_header',\n",
       " 'has_logo',\n",
       " 'listed',\n",
       " 'name',\n",
       " 'name_length',\n",
       " 'num_order',\n",
       " 'num_payouts',\n",
       " 'object_id',\n",
       " 'org_desc',\n",
       " 'org_facebook',\n",
       " 'org_name',\n",
       " 'org_twitter',\n",
       " 'payee_name',\n",
       " 'payout_type',\n",
       " 'previous_payouts',\n",
       " 'sale_duration',\n",
       " 'sale_duration2',\n",
       " 'show_map',\n",
       " 'ticket_types',\n",
       " 'user_age',\n",
       " 'user_created',\n",
       " 'user_type',\n",
       " 'venue_address',\n",
       " 'venue_country',\n",
       " 'venue_latitude',\n",
       " 'venue_longitude',\n",
       " 'venue_name',\n",
       " 'venue_state',\n",
       " 'fraud',\n",
       " 'mask_previous_payout']"
      ]
     },
     "execution_count": 118,
     "metadata": {},
     "output_type": "execute_result"
    }
   ],
   "source": [
    "columns = list(df.columns)\n",
    "columns\n",
    "\n",
    "\n",
    "# user_age - if they appear twice, their first event will still show up\n",
    "# as their age now. Change it to not be final age, (day event - users first date)"
   ]
  },
  {
   "cell_type": "code",
   "execution_count": 97,
   "metadata": {},
   "outputs": [],
   "source": [
    "# X is features, y is target. Returns a cross tab of predicted \n",
    "# and actual values for fraud vs not fraud\n",
    "def get_crosstab(X, y, model_type):\n",
    "    Xtrain, Xtest, ytrain, ytest = train_test_split(X, y)\n",
    "    model = model_type\n",
    "    model.fit(Xtrain, ytrain)\n",
    "    print(model.predict_proba(Xtest))\n",
    "    predicted = model.predict(Xtest)\n",
    "    actual = ytest\n",
    "    crosstab = pd.crosstab(ytest, model.predict(Xtest), rownames=['actual'], colnames=['predicted'])\n",
    "    return model, crosstab"
   ]
  },
  {
   "cell_type": "code",
   "execution_count": 113,
   "metadata": {},
   "outputs": [
    {
     "name": "stdout",
     "output_type": "stream",
     "text": [
      "[[0.01600578 0.98399422]\n",
      " [0.01065795 0.98934205]\n",
      " [0.03447242 0.96552758]\n",
      " ...\n",
      " [0.02996302 0.97003698]\n",
      " [0.01585147 0.98414853]\n",
      " [0.03447242 0.96552758]]\n"
     ]
    },
    {
     "data": {
      "text/plain": [
       "0          36\n",
       "1         149\n",
       "2         214\n",
       "3         889\n",
       "4          35\n",
       "         ... \n",
       "14332       0\n",
       "14333    1374\n",
       "14334      84\n",
       "14335     812\n",
       "14336       0\n",
       "Name: user_age, Length: 14337, dtype: int64"
      ]
     },
     "execution_count": 113,
     "metadata": {},
     "output_type": "execute_result"
    }
   ],
   "source": [
    "from sklearn.linear_model import LogisticRegression\n",
    "\n",
    "mask = df.previous_payouts.apply(lambda x: 0 if len(x) <= 0 else 1)\n",
    "df['mask_previous_payout'] = mask\n",
    "X = df[['mask_previous_payout', 'user_age']]\n",
    "y = df['fraud'].apply(lambda x: 'Fraud' if x == 1 else 'Not')\n",
    "\n",
    "# get predict proba from both models, for each data point take average \n",
    "# probabilities. probs set at .5 by default\n",
    "\n",
    "model, crosstab = get_crosstab(X, y, LogisticRegression())\n",
    "Xtrain, Xtest, ytrain, ytest = train_test_split(X, y)\n",
    "model\n",
    "crosstab\n",
    "df['user_age']"
   ]
  },
  {
   "cell_type": "code",
   "execution_count": 99,
   "metadata": {},
   "outputs": [],
   "source": [
    "# make predictions with a given model, setting the threshold to \n",
    "# a probability of you choice between (0, 1)\n",
    "def predict(model, X, threshold=0.5):\n",
    "    '''Return prediction of the fitted binary-classifier model model on X using\n",
    "    the specifed `threshold`. NB: class 0 is the positive class'''\n",
    "#     print(np.where(model.predict_proba(X)[:, 0] > threshold,\n",
    "#                     model.classes_[0],\n",
    "#                     model.classes_[1]))\n",
    "    return np.where(model.predict_proba(X)[:, 0] > threshold,\n",
    "                    model.classes_[0],\n",
    "                    model.classes_[1])\n",
    "\n",
    "# create confusion matrix with a given model and Xtest\n",
    "\n",
    "def confusion_matrix(model, X, threshold=0.5):\n",
    "    # write own instead of deal with crosstab\n",
    "    cf = pd.crosstab(ytest, predict(model, Xtest, threshold), dropna=False)\n",
    "#     print(cf)\n",
    "    cf = cf.add(pd.DataFrame([[0,0],[0,0]], columns=['Fraud', 'Not'], index=['Fraud', 'Not']), fill_value=0)\n",
    "    cf.index.name = 'actual'\n",
    "    cf.columns.name = 'predicted'\n",
    "    return cf\n",
    "\n",
    "# manually do this with predic proba. for every threshhold, manually \n",
    "# calculate what would be predicted fraud/not fraud. Manually\n",
    "# calculate true vs false positives"
   ]
  },
  {
   "cell_type": "code",
   "execution_count": 100,
   "metadata": {},
   "outputs": [
    {
     "data": {
      "text/plain": [
       "Text(0.5, 1.0, 'Profit Curve')"
      ]
     },
     "execution_count": 100,
     "metadata": {},
     "output_type": "execute_result"
    },
    {
     "data": {
      "image/png": "[encoded data removed]",
      "text/plain": [
       "<Figure size 864x576 with 1 Axes>"
      ]
     },
     "metadata": {
      "needs_background": "light"
     },
     "output_type": "display_data"
    }
   ],
   "source": [
    "# ROC curve \n",
    "# has logo, has header (both are binaries)\n",
    "\n",
    "# predicted not fraud but it is -$20\n",
    "# predicted fraud but it isn't -$5\n",
    "# true positive catching a fraud $0 ?\n",
    "# true positive catching a not fraud $0\n",
    "import numpy as np\n",
    "\n",
    "cb_matrix = pd.DataFrame([[0, -20], [-5, 0]], columns=[\"Fraud\", \"Not\"], index=[\"Fraud\", \"Not\"])\n",
    "cb_matrix.index.name = 'actual'\n",
    "cb_matrix.columns.name = 'predicted'\n",
    "cb_matrix\n",
    "\n",
    "# calculate the payout with a the cost benefit matrix, \n",
    "# given threshhold, model, and X\n",
    "def calculate_payout(cb_matrix, model, X, threshold):\n",
    "    return (confusion_matrix(model, X, threshold) * cb_matrix).values.sum()\n",
    "    \n",
    "thresholds = np.arange(0.0, 1.0, 0.01)\n",
    "profits = []\n",
    "for threshold in thresholds:\n",
    "    profits.append(calculate_payout(cb_matrix, model, X, threshold))\n",
    "\n",
    "fig, ax = plt.subplots(figsize=(12, 8))\n",
    "ax.plot(thresholds, profits)\n",
    "ax.set_xlabel('Thresholds')\n",
    "ax.set_ylabel('Profits')\n",
    "ax.set_title('Profit Curve')\n",
    "\n"
   ]
  },
  {
   "cell_type": "code",
   "execution_count": 49,
   "metadata": {},
   "outputs": [
    {
     "data": {
      "text/plain": [
       "1"
      ]
     },
     "execution_count": 49,
     "metadata": {},
     "output_type": "execute_result"
    }
   ],
   "source": [
    "# X = df[['mask_previous_payout', 'user_age', 'has_logo', 'has_header']]\n",
    "# \n",
    "# get_crosstab(X, y, DecisionTreeClassifier())\n",
    "# from sklearn.tree import DecisionTreeClassifier\n",
    "# get_crosstab(X, y, DecisionTreeClassifier())\n",
    "crosstab"
   ]
  },
  {
   "cell_type": "code",
   "execution_count": 71,
   "metadata": {},
   "outputs": [
    {
     "data": {
      "text/html": [
       "<div>\n",
       "<style scoped>\n",
       "    .dataframe tbody tr th:only-of-type {\n",
       "        vertical-align: middle;\n",
       "    }\n",
       "\n",
       "    .dataframe tbody tr th {\n",
       "        vertical-align: top;\n",
       "    }\n",
       "\n",
       "    .dataframe thead th {\n",
       "        text-align: right;\n",
       "    }\n",
       "</style>\n",
       "<table border=\"1\" class=\"dataframe\">\n",
       "  <thead>\n",
       "    <tr style=\"text-align: right;\">\n",
       "      <th>predicted</th>\n",
       "      <th>Fraud</th>\n",
       "      <th>Not</th>\n",
       "    </tr>\n",
       "    <tr>\n",
       "      <th>actual</th>\n",
       "      <th></th>\n",
       "      <th></th>\n",
       "    </tr>\n",
       "  </thead>\n",
       "  <tbody>\n",
       "    <tr>\n",
       "      <th>Fraud</th>\n",
       "      <td>0</td>\n",
       "      <td>-20</td>\n",
       "    </tr>\n",
       "    <tr>\n",
       "      <th>Not</th>\n",
       "      <td>-5</td>\n",
       "      <td>0</td>\n",
       "    </tr>\n",
       "  </tbody>\n",
       "</table>\n",
       "</div>"
      ],
      "text/plain": [
       "predicted  Fraud  Not\n",
       "actual               \n",
       "Fraud          0  -20\n",
       "Not           -5    0"
      ]
     },
     "execution_count": 71,
     "metadata": {},
     "output_type": "execute_result"
    }
   ],
   "source": [
    "cb_matrix"
   ]
  },
  {
   "cell_type": "code",
   "execution_count": 114,
   "metadata": {},
   "outputs": [],
   "source": [
    "\n",
    "# ---------------------------------------------------------------------------\n",
    "# Pipeline Funtions \n",
    "# ---------------------------------------------------------------------------\n",
    "def not_premium(x):\n",
    "    return 1 if x.lower() != 'premium' else 0\n",
    "\n",
    "def no_previous_payout(x):\n",
    "    return 1 if len(x) <= 0 else 0\n",
    "\n",
    "def payout_name_flag(x):\n",
    "    for d in x:\n",
    "        if len(d['name']) > 3:\n",
    "            return 1\n",
    "    return 0\n",
    "\n",
    "def payout_toself(payee, payouts):\n",
    "    for pay in payouts:\n",
    "        if payee.lower() in pay['name'].lower():\n",
    "            return 1\n",
    "    return 0\n",
    "\n",
    "# ---------------------------------------------------------------------------\n",
    "# End Funtions \n",
    "# ---------------------------------------------------------------------------\n",
    "# 'premium': df.acct_type.apply(lambda x: not_premium(x)),\n",
    "temp = dict()\n",
    "temp = {'target': df['fraud'].copy(), \n",
    "        'previous_payout': df.previous_payouts.apply(lambda x: no_previous_payout(x)),\n",
    "        'no_payout_name': df.previous_payouts.apply(lambda x: payout_name_flag(x)),\n",
    "        'payout_toself': df.apply(lambda x: payout_toself(x.payee_name, x.previous_payouts), axis = 1)\n",
    "       }\n",
    "\n",
    "df_model = pd.DataFrame(temp)"
   ]
  },
  {
   "cell_type": "code",
   "execution_count": 115,
   "metadata": {},
   "outputs": [],
   "source": [
    "X = df_model.drop('target', axis = 1)\n",
    "y = df_model['target']"
   ]
  },
  {
   "cell_type": "code",
   "execution_count": 116,
   "metadata": {},
   "outputs": [
    {
     "name": "stdout",
     "output_type": "stream",
     "text": [
      "[[0.97267806 0.02732194]\n",
      " [0.97267806 0.02732194]\n",
      " [0.97267806 0.02732194]\n",
      " ...\n",
      " [0.97267806 0.02732194]\n",
      " [0.97267806 0.02732194]\n",
      " [0.98878235 0.01121765]]\n"
     ]
    },
    {
     "data": {
      "text/plain": [
       "(LogisticRegression(),\n",
       " predicted     0    1\n",
       " actual              \n",
       " 0          3235   14\n",
       " 1            75  261)"
      ]
     },
     "execution_count": 116,
     "metadata": {},
     "output_type": "execute_result"
    }
   ],
   "source": [
    "get_crosstab(X, y, LogisticRegression())"
   ]
  },
  {
   "cell_type": "code",
   "execution_count": 112,
   "metadata": {},
   "outputs": [
    {
     "data": {
      "text/plain": [
       "Not      13044\n",
       "Fraud     1293\n",
       "Name: fraud, dtype: int64"
      ]
     },
     "execution_count": 112,
     "metadata": {},
     "output_type": "execute_result"
    }
   ],
   "source": [
    "# Fraud\t248\t70\n",
    "# Not\t24\t3243\n",
    "y.value_counts()\n"
   ]
  },
  {
   "cell_type": "code",
   "execution_count": null,
   "metadata": {},
   "outputs": [],
   "source": []
  }
 ],
 "metadata": {
  "kernelspec": {
   "display_name": "Python 3",
   "language": "python",
   "name": "python3"
  },
  "language_info": {
   "codemirror_mode": {
    "name": "ipython",
    "version": 3
   },
   "file_extension": ".py",
   "mimetype": "text/x-python",
   "name": "python",
   "nbconvert_exporter": "python",
   "pygments_lexer": "ipython3",
   "version": "3.7.9"
  }
 },
 "nbformat": 4,
 "nbformat_minor": 4
}
