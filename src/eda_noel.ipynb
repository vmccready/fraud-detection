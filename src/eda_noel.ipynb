{
 "cells": [
  {
   "cell_type": "code",
   "execution_count": 43,
   "metadata": {},
   "outputs": [],
   "source": [
    "# Imports \n",
    "import pandas as pd\n",
    "import matplotlib.pyplot as plt\n",
    "from bs4 import BeautifulSoup\n",
    "from sklearn.model_selection import train_test_split\n",
    "from sklearn.ensemble import RandomForestClassifier\n",
    "from sklearn.model_selection import GridSearchCV\n",
    "\n",
    "%matplotlib inline "
   ]
  },
  {
   "cell_type": "code",
   "execution_count": 57,
   "metadata": {},
   "outputs": [
    {
     "data": {
      "text/html": [
       "<div>\n",
       "<style scoped>\n",
       "    .dataframe tbody tr th:only-of-type {\n",
       "        vertical-align: middle;\n",
       "    }\n",
       "\n",
       "    .dataframe tbody tr th {\n",
       "        vertical-align: top;\n",
       "    }\n",
       "\n",
       "    .dataframe thead th {\n",
       "        text-align: right;\n",
       "    }\n",
       "</style>\n",
       "<table border=\"1\" class=\"dataframe\">\n",
       "  <thead>\n",
       "    <tr style=\"text-align: right;\">\n",
       "      <th></th>\n",
       "      <th>acct_type</th>\n",
       "      <th>approx_payout_date</th>\n",
       "      <th>body_length</th>\n",
       "      <th>channels</th>\n",
       "      <th>country</th>\n",
       "      <th>currency</th>\n",
       "      <th>delivery_method</th>\n",
       "      <th>description</th>\n",
       "      <th>email_domain</th>\n",
       "      <th>event_created</th>\n",
       "      <th>...</th>\n",
       "      <th>ticket_types</th>\n",
       "      <th>user_age</th>\n",
       "      <th>user_created</th>\n",
       "      <th>user_type</th>\n",
       "      <th>venue_address</th>\n",
       "      <th>venue_country</th>\n",
       "      <th>venue_latitude</th>\n",
       "      <th>venue_longitude</th>\n",
       "      <th>venue_name</th>\n",
       "      <th>venue_state</th>\n",
       "    </tr>\n",
       "  </thead>\n",
       "  <tbody>\n",
       "    <tr>\n",
       "      <th>0</th>\n",
       "      <td>fraudster_event</td>\n",
       "      <td>1266062400</td>\n",
       "      <td>3852</td>\n",
       "      <td>5</td>\n",
       "      <td>US</td>\n",
       "      <td>USD</td>\n",
       "      <td>0.0</td>\n",
       "      <td>&lt;p&gt;&lt;a href=\"http://s432.photobucket.com/albums...</td>\n",
       "      <td>gmail.com</td>\n",
       "      <td>1262739706</td>\n",
       "      <td>...</td>\n",
       "      <td>[{'event_id': 527017, 'cost': 25.0, 'availabil...</td>\n",
       "      <td>36</td>\n",
       "      <td>1259613950</td>\n",
       "      <td>1</td>\n",
       "      <td>717 Washington Avenue</td>\n",
       "      <td>US</td>\n",
       "      <td>25.777471</td>\n",
       "      <td>-80.133433</td>\n",
       "      <td>INK Nightclub - South Beach</td>\n",
       "      <td>FL</td>\n",
       "    </tr>\n",
       "    <tr>\n",
       "      <th>1</th>\n",
       "      <td>premium</td>\n",
       "      <td>1296720000</td>\n",
       "      <td>3499</td>\n",
       "      <td>0</td>\n",
       "      <td>US</td>\n",
       "      <td>USD</td>\n",
       "      <td>1.0</td>\n",
       "      <td>&lt;p&gt;Join us for a quick, one-night, community-b...</td>\n",
       "      <td>ruf.org</td>\n",
       "      <td>1293832670</td>\n",
       "      <td>...</td>\n",
       "      <td>[{'event_id': 786878, 'cost': 35.0, 'availabil...</td>\n",
       "      <td>149</td>\n",
       "      <td>1280942776</td>\n",
       "      <td>3</td>\n",
       "      <td></td>\n",
       "      <td>US</td>\n",
       "      <td>32.776566</td>\n",
       "      <td>-79.930922</td>\n",
       "      <td>The Charleston, SC area</td>\n",
       "      <td>SC</td>\n",
       "    </tr>\n",
       "    <tr>\n",
       "      <th>2</th>\n",
       "      <td>premium</td>\n",
       "      <td>1296172800</td>\n",
       "      <td>2601</td>\n",
       "      <td>8</td>\n",
       "      <td>US</td>\n",
       "      <td>USD</td>\n",
       "      <td>1.0</td>\n",
       "      <td>&lt;h3&gt;&lt;span class=\"subcategory\"&gt;&lt;strong&gt;Teacher ...</td>\n",
       "      <td>pvsd.k12.ca.us</td>\n",
       "      <td>1291090956</td>\n",
       "      <td>...</td>\n",
       "      <td>[{'event_id': 787337, 'cost': 93.51, 'availabi...</td>\n",
       "      <td>214</td>\n",
       "      <td>1272559388</td>\n",
       "      <td>3</td>\n",
       "      <td>10100 Pioneer Blvd Suite 100</td>\n",
       "      <td>US</td>\n",
       "      <td>33.944201</td>\n",
       "      <td>-118.080419</td>\n",
       "      <td>Los Angeles County Office of Education</td>\n",
       "      <td>CA</td>\n",
       "    </tr>\n",
       "    <tr>\n",
       "      <th>3</th>\n",
       "      <td>premium</td>\n",
       "      <td>1388966400</td>\n",
       "      <td>12347</td>\n",
       "      <td>6</td>\n",
       "      <td>IE</td>\n",
       "      <td>EUR</td>\n",
       "      <td>1.0</td>\n",
       "      <td>&lt;p style=\"margin-bottom: 1.3em; padding-bottom...</td>\n",
       "      <td>irishtabletennis.com</td>\n",
       "      <td>1360681570</td>\n",
       "      <td>...</td>\n",
       "      <td>[{'event_id': 885645, 'cost': 25.0, 'availabil...</td>\n",
       "      <td>889</td>\n",
       "      <td>1283870102</td>\n",
       "      <td>3</td>\n",
       "      <td></td>\n",
       "      <td>None</td>\n",
       "      <td>NaN</td>\n",
       "      <td>NaN</td>\n",
       "      <td>None</td>\n",
       "      <td>None</td>\n",
       "    </tr>\n",
       "    <tr>\n",
       "      <th>4</th>\n",
       "      <td>premium</td>\n",
       "      <td>1297900800</td>\n",
       "      <td>2417</td>\n",
       "      <td>11</td>\n",
       "      <td>US</td>\n",
       "      <td>USD</td>\n",
       "      <td>0.0</td>\n",
       "      <td>&lt;p&gt;Writers and filmmakers need to understand t...</td>\n",
       "      <td>artsandbusinesscouncil.org</td>\n",
       "      <td>1291994666</td>\n",
       "      <td>...</td>\n",
       "      <td>[{'event_id': 1114349, 'cost': 150.0, 'availab...</td>\n",
       "      <td>35</td>\n",
       "      <td>1288984065</td>\n",
       "      <td>3</td>\n",
       "      <td>One Marina Park Drive</td>\n",
       "      <td>US</td>\n",
       "      <td>42.353848</td>\n",
       "      <td>-71.044276</td>\n",
       "      <td>Fish &amp; Richardson</td>\n",
       "      <td>MA</td>\n",
       "    </tr>\n",
       "  </tbody>\n",
       "</table>\n",
       "<p>5 rows × 44 columns</p>\n",
       "</div>"
      ],
      "text/plain": [
       "         acct_type  approx_payout_date  body_length  channels country  \\\n",
       "0  fraudster_event          1266062400         3852         5      US   \n",
       "1          premium          1296720000         3499         0      US   \n",
       "2          premium          1296172800         2601         8      US   \n",
       "3          premium          1388966400        12347         6      IE   \n",
       "4          premium          1297900800         2417        11      US   \n",
       "\n",
       "  currency  delivery_method  \\\n",
       "0      USD              0.0   \n",
       "1      USD              1.0   \n",
       "2      USD              1.0   \n",
       "3      EUR              1.0   \n",
       "4      USD              0.0   \n",
       "\n",
       "                                         description  \\\n",
       "0  <p><a href=\"http://s432.photobucket.com/albums...   \n",
       "1  <p>Join us for a quick, one-night, community-b...   \n",
       "2  <h3><span class=\"subcategory\"><strong>Teacher ...   \n",
       "3  <p style=\"margin-bottom: 1.3em; padding-bottom...   \n",
       "4  <p>Writers and filmmakers need to understand t...   \n",
       "\n",
       "                 email_domain  event_created  ...  \\\n",
       "0                   gmail.com     1262739706  ...   \n",
       "1                     ruf.org     1293832670  ...   \n",
       "2              pvsd.k12.ca.us     1291090956  ...   \n",
       "3        irishtabletennis.com     1360681570  ...   \n",
       "4  artsandbusinesscouncil.org     1291994666  ...   \n",
       "\n",
       "                                        ticket_types  user_age  user_created  \\\n",
       "0  [{'event_id': 527017, 'cost': 25.0, 'availabil...        36    1259613950   \n",
       "1  [{'event_id': 786878, 'cost': 35.0, 'availabil...       149    1280942776   \n",
       "2  [{'event_id': 787337, 'cost': 93.51, 'availabi...       214    1272559388   \n",
       "3  [{'event_id': 885645, 'cost': 25.0, 'availabil...       889    1283870102   \n",
       "4  [{'event_id': 1114349, 'cost': 150.0, 'availab...        35    1288984065   \n",
       "\n",
       "   user_type                 venue_address  venue_country  venue_latitude  \\\n",
       "0          1         717 Washington Avenue             US       25.777471   \n",
       "1          3                                           US       32.776566   \n",
       "2          3  10100 Pioneer Blvd Suite 100             US       33.944201   \n",
       "3          3                                         None             NaN   \n",
       "4          3        One Marina Park Drive              US       42.353848   \n",
       "\n",
       "   venue_longitude                              venue_name venue_state  \n",
       "0       -80.133433             INK Nightclub - South Beach          FL  \n",
       "1       -79.930922                 The Charleston, SC area          SC  \n",
       "2      -118.080419  Los Angeles County Office of Education          CA  \n",
       "3              NaN                                    None        None  \n",
       "4       -71.044276                       Fish & Richardson          MA  \n",
       "\n",
       "[5 rows x 44 columns]"
      ]
     },
     "execution_count": 57,
     "metadata": {},
     "output_type": "execute_result"
    }
   ],
   "source": [
    "# That Data\n",
    "df = pd.read_json('../../../Data/data.json')\n",
    "df.head()"
   ]
  },
  {
   "cell_type": "code",
   "execution_count": 62,
   "metadata": {},
   "outputs": [],
   "source": [
    "# Make fraud column \n",
    "df['fraud'] = df.acct_type.apply(lambda x: 1 if 'fraud' in x else 0)"
   ]
  },
  {
   "cell_type": "code",
   "execution_count": 63,
   "metadata": {},
   "outputs": [
    {
     "data": {
      "text/plain": [
       "0    13044\n",
       "1     1293\n",
       "Name: fraud, dtype: int64"
      ]
     },
     "execution_count": 63,
     "metadata": {},
     "output_type": "execute_result"
    }
   ],
   "source": [
    "df.fraud.value_counts()"
   ]
  },
  {
   "cell_type": "code",
   "execution_count": null,
   "metadata": {},
   "outputs": [],
   "source": [
    "# Get columns \n",
    "columns = list(df.columns)\n",
    "\n",
    "# See What they looks like \n",
    "df.info()"
   ]
  },
  {
   "cell_type": "code",
   "execution_count": null,
   "metadata": {},
   "outputs": [],
   "source": [
    "# Desccribe Int variables \n",
    "df.describe().T"
   ]
  },
  {
   "cell_type": "code",
   "execution_count": null,
   "metadata": {},
   "outputs": [],
   "source": [
    "# Get missing varaiabels \n",
    "missing_values = []\n",
    "for col in columns:\n",
    "    if df[col].isna().any():\n",
    "        missing_values.append(col)\n",
    "        \n",
    "print(f'Number: {len(missing_values)} \\n\\nVariables with missing values:\\n{missing_values}')"
   ]
  },
  {
   "cell_type": "code",
   "execution_count": null,
   "metadata": {},
   "outputs": [],
   "source": [
    "# get variabels by type \n",
    "var_floats = []\n",
    "var_ints = []\n",
    "var_objects = []\n",
    "\n",
    "for col in columns:\n",
    "    if df[col].dtype == 'int64':\n",
    "        var_ints.append(col)\n",
    "    elif df[col].dtype == 'float64':\n",
    "        var_floats.append(col)\n",
    "    else:\n",
    "        var_objects.append(col)\n",
    "\n",
    "print(f' Floats: {var_floats} \\n\\n Ints: {var_ints} \\n\\n Objects: {var_objects}')"
   ]
  },
  {
   "cell_type": "markdown",
   "metadata": {},
   "source": [
    "# Notes \n",
    "\n",
    "**Isolation Forest**"
   ]
  },
  {
   "cell_type": "code",
   "execution_count": null,
   "metadata": {
    "scrolled": false
   },
   "outputs": [],
   "source": [
    "# Show Int data distribution \n",
    "def plot(data, vars_, r, c):\n",
    "    fig, axs = plt.subplots(r, c, figsize = (10,10))\n",
    "\n",
    "    for i, ax in enumerate(axs.flatten()):\n",
    "        ax.hist(data[vars_[i]])\n",
    "        ax.set_xlabel(vars_[i])\n",
    "        ax.set_ylabel('freq')\n",
    "\n",
    "    plt.tight_layout()\n",
    "plot(df, var_ints, 6, 3)"
   ]
  },
  {
   "cell_type": "code",
   "execution_count": null,
   "metadata": {},
   "outputs": [],
   "source": [
    "df.user_type.value_counts()"
   ]
  },
  {
   "cell_type": "code",
   "execution_count": null,
   "metadata": {
    "scrolled": false
   },
   "outputs": [],
   "source": [
    "# Show float data distribution \n",
    "plot(df, var_floats, 3, 3)"
   ]
  },
  {
   "cell_type": "code",
   "execution_count": null,
   "metadata": {
    "scrolled": true
   },
   "outputs": [],
   "source": [
    "# Peek Object Variables \n",
    "for v in var_objects:\n",
    "    print(f'    {v} \\n{df[v].value_counts()} \\n\\n\\n')"
   ]
  },
  {
   "cell_type": "code",
   "execution_count": null,
   "metadata": {
    "scrolled": true
   },
   "outputs": [],
   "source": [
    "# Return all events with no payouts \n",
    "nopayouts_mask = df.previous_payouts.apply(lambda x: True if len(x) <= 0 else False)\n",
    "df[nopayouts_mask]"
   ]
  },
  {
   "cell_type": "code",
   "execution_count": null,
   "metadata": {},
   "outputs": [],
   "source": [
    "# No pay out that are farud\n",
    "df2 = df[~nopayouts_mask]"
   ]
  },
  {
   "cell_type": "code",
   "execution_count": null,
   "metadata": {},
   "outputs": [],
   "source": [
    "df.fraud.sum()"
   ]
  },
  {
   "cell_type": "code",
   "execution_count": null,
   "metadata": {},
   "outputs": [],
   "source": [
    "df2_fraud = df2[df2.fraud == 1]"
   ]
  },
  {
   "cell_type": "code",
   "execution_count": null,
   "metadata": {
    "scrolled": true
   },
   "outputs": [],
   "source": [
    "df2_fraud"
   ]
  },
  {
   "cell_type": "code",
   "execution_count": null,
   "metadata": {},
   "outputs": [],
   "source": [
    "plot(df2_fraud, var_ints, 6, 3)"
   ]
  },
  {
   "cell_type": "code",
   "execution_count": null,
   "metadata": {},
   "outputs": [],
   "source": [
    "plot(df2_fraud, var_floats, 3, 3)"
   ]
  },
  {
   "cell_type": "code",
   "execution_count": null,
   "metadata": {
    "scrolled": true
   },
   "outputs": [],
   "source": [
    "# Peek Object Variables \n",
    "for v in var_objects:\n",
    "    print(f'    {v} \\n{df2_fraud[v].value_counts()} \\n\\n\\n')\n",
    "    \n",
    "# delivery_method     991 non-null    float64\n",
    "# has_header          339 non-null    float64\n",
    "# 42  venue_name          203 non-null    object\n",
    "# 25  org_facebook        289 non-null    float64\n",
    "# 31  sale_duration       288 non-null    float64"
   ]
  },
  {
   "cell_type": "code",
   "execution_count": null,
   "metadata": {
    "scrolled": true
   },
   "outputs": [],
   "source": [
    "# Peek Object Variables \n",
    "for v in ['payee_name', 'org_name']:\n",
    "    print(f'    {v} \\n{df[v].value_counts()} \\n\\n\\n')"
   ]
  },
  {
   "cell_type": "code",
   "execution_count": null,
   "metadata": {},
   "outputs": [],
   "source": [
    "df.fraud.sum()"
   ]
  },
  {
   "cell_type": "code",
   "execution_count": null,
   "metadata": {},
   "outputs": [],
   "source": []
  },
  {
   "cell_type": "code",
   "execution_count": null,
   "metadata": {},
   "outputs": [],
   "source": [
    "# Check to see if payee is a real person \n",
    "df['missing_payee'] = df.payee_name.apply(lambda x: 1 if len(x) < 3 else 0)"
   ]
  },
  {
   "cell_type": "markdown",
   "metadata": {},
   "source": [
    "## ------------ Fraud Payee and Pay to"
   ]
  },
  {
   "cell_type": "code",
   "execution_count": null,
   "metadata": {},
   "outputs": [],
   "source": [
    "# Missing payee\n",
    "mask_none_missing_payee = df['missing_payee'] == 0"
   ]
  },
  {
   "cell_type": "code",
   "execution_count": null,
   "metadata": {},
   "outputs": [],
   "source": [
    "# None Missing payee that are fraud \n",
    "temp = df[(df['missing_payee'] == 0) & (df['fraud'] == 1)]"
   ]
  },
  {
   "cell_type": "code",
   "execution_count": null,
   "metadata": {},
   "outputs": [],
   "source": [
    "# get all the people who did not pay out to some one but was fraud \n",
    "mask = temp.previous_payouts.apply(lambda x: True if len(x) <= 0 else False)"
   ]
  },
  {
   "cell_type": "code",
   "execution_count": null,
   "metadata": {},
   "outputs": [],
   "source": [
    "temp.loc[~mask, ['payee_name']]"
   ]
  },
  {
   "cell_type": "code",
   "execution_count": null,
   "metadata": {
    "scrolled": true
   },
   "outputs": [],
   "source": [
    "temp[~mask].previous_payouts[11504]"
   ]
  },
  {
   "cell_type": "markdown",
   "metadata": {},
   "source": []
  },
  {
   "cell_type": "markdown",
   "metadata": {},
   "source": [
    "# ---- Important fraud factors \n",
    "1. No previous pay outs \n",
    "2. Pay out is to no one \n",
    "3. Payout is to payee\n",
    "\n",
    "\n",
    "\n",
    "mask = df.previous_payouts.apply(lambda x: True if len(x) <= 0 else False)\n",
    "df[mask]"
   ]
  },
  {
   "cell_type": "code",
   "execution_count": 31,
   "metadata": {},
   "outputs": [],
   "source": [
    "def not_premium(x):\n",
    "    return 1 if x.lower() != 'premium' else 0\n",
    "\n",
    "def no_previous_payout(x):\n",
    "    return 1 if len(x) <= 0 else 0\n",
    "\n",
    "def payout_name_flag(x):\n",
    "    for d in x:\n",
    "        if len(d['name']) > 3:\n",
    "            return 1\n",
    "    return 0\n",
    "\n",
    "def payout_toself(payee, payouts):\n",
    "    for pay in payouts:\n",
    "        if payee.lower() in pay['name'].lower():\n",
    "            return 1\n",
    "    return 0"
   ]
  },
  {
   "cell_type": "code",
   "execution_count": 61,
   "metadata": {},
   "outputs": [
    {
     "data": {
      "text/html": [
       "<div>\n",
       "<style scoped>\n",
       "    .dataframe tbody tr th:only-of-type {\n",
       "        vertical-align: middle;\n",
       "    }\n",
       "\n",
       "    .dataframe tbody tr th {\n",
       "        vertical-align: top;\n",
       "    }\n",
       "\n",
       "    .dataframe thead th {\n",
       "        text-align: right;\n",
       "    }\n",
       "</style>\n",
       "<table border=\"1\" class=\"dataframe\">\n",
       "  <thead>\n",
       "    <tr style=\"text-align: right;\">\n",
       "      <th></th>\n",
       "      <th>acct_type</th>\n",
       "      <th>approx_payout_date</th>\n",
       "      <th>body_length</th>\n",
       "      <th>channels</th>\n",
       "      <th>country</th>\n",
       "      <th>currency</th>\n",
       "      <th>delivery_method</th>\n",
       "      <th>description</th>\n",
       "      <th>email_domain</th>\n",
       "      <th>event_created</th>\n",
       "      <th>...</th>\n",
       "      <th>ticket_types</th>\n",
       "      <th>user_age</th>\n",
       "      <th>user_created</th>\n",
       "      <th>user_type</th>\n",
       "      <th>venue_address</th>\n",
       "      <th>venue_country</th>\n",
       "      <th>venue_latitude</th>\n",
       "      <th>venue_longitude</th>\n",
       "      <th>venue_name</th>\n",
       "      <th>venue_state</th>\n",
       "    </tr>\n",
       "  </thead>\n",
       "  <tbody>\n",
       "    <tr>\n",
       "      <th>0</th>\n",
       "      <td>fraudster_event</td>\n",
       "      <td>1266062400</td>\n",
       "      <td>3852</td>\n",
       "      <td>5</td>\n",
       "      <td>US</td>\n",
       "      <td>USD</td>\n",
       "      <td>0.0</td>\n",
       "      <td>&lt;p&gt;&lt;a href=\"http://s432.photobucket.com/albums...</td>\n",
       "      <td>gmail.com</td>\n",
       "      <td>1262739706</td>\n",
       "      <td>...</td>\n",
       "      <td>[{'event_id': 527017, 'cost': 25.0, 'availabil...</td>\n",
       "      <td>36</td>\n",
       "      <td>1259613950</td>\n",
       "      <td>1</td>\n",
       "      <td>717 Washington Avenue</td>\n",
       "      <td>US</td>\n",
       "      <td>25.777471</td>\n",
       "      <td>-80.133433</td>\n",
       "      <td>INK Nightclub - South Beach</td>\n",
       "      <td>FL</td>\n",
       "    </tr>\n",
       "    <tr>\n",
       "      <th>1</th>\n",
       "      <td>premium</td>\n",
       "      <td>1296720000</td>\n",
       "      <td>3499</td>\n",
       "      <td>0</td>\n",
       "      <td>US</td>\n",
       "      <td>USD</td>\n",
       "      <td>1.0</td>\n",
       "      <td>&lt;p&gt;Join us for a quick, one-night, community-b...</td>\n",
       "      <td>ruf.org</td>\n",
       "      <td>1293832670</td>\n",
       "      <td>...</td>\n",
       "      <td>[{'event_id': 786878, 'cost': 35.0, 'availabil...</td>\n",
       "      <td>149</td>\n",
       "      <td>1280942776</td>\n",
       "      <td>3</td>\n",
       "      <td></td>\n",
       "      <td>US</td>\n",
       "      <td>32.776566</td>\n",
       "      <td>-79.930922</td>\n",
       "      <td>The Charleston, SC area</td>\n",
       "      <td>SC</td>\n",
       "    </tr>\n",
       "    <tr>\n",
       "      <th>2</th>\n",
       "      <td>premium</td>\n",
       "      <td>1296172800</td>\n",
       "      <td>2601</td>\n",
       "      <td>8</td>\n",
       "      <td>US</td>\n",
       "      <td>USD</td>\n",
       "      <td>1.0</td>\n",
       "      <td>&lt;h3&gt;&lt;span class=\"subcategory\"&gt;&lt;strong&gt;Teacher ...</td>\n",
       "      <td>pvsd.k12.ca.us</td>\n",
       "      <td>1291090956</td>\n",
       "      <td>...</td>\n",
       "      <td>[{'event_id': 787337, 'cost': 93.51, 'availabi...</td>\n",
       "      <td>214</td>\n",
       "      <td>1272559388</td>\n",
       "      <td>3</td>\n",
       "      <td>10100 Pioneer Blvd Suite 100</td>\n",
       "      <td>US</td>\n",
       "      <td>33.944201</td>\n",
       "      <td>-118.080419</td>\n",
       "      <td>Los Angeles County Office of Education</td>\n",
       "      <td>CA</td>\n",
       "    </tr>\n",
       "    <tr>\n",
       "      <th>3</th>\n",
       "      <td>premium</td>\n",
       "      <td>1388966400</td>\n",
       "      <td>12347</td>\n",
       "      <td>6</td>\n",
       "      <td>IE</td>\n",
       "      <td>EUR</td>\n",
       "      <td>1.0</td>\n",
       "      <td>&lt;p style=\"margin-bottom: 1.3em; padding-bottom...</td>\n",
       "      <td>irishtabletennis.com</td>\n",
       "      <td>1360681570</td>\n",
       "      <td>...</td>\n",
       "      <td>[{'event_id': 885645, 'cost': 25.0, 'availabil...</td>\n",
       "      <td>889</td>\n",
       "      <td>1283870102</td>\n",
       "      <td>3</td>\n",
       "      <td></td>\n",
       "      <td>None</td>\n",
       "      <td>NaN</td>\n",
       "      <td>NaN</td>\n",
       "      <td>None</td>\n",
       "      <td>None</td>\n",
       "    </tr>\n",
       "    <tr>\n",
       "      <th>4</th>\n",
       "      <td>premium</td>\n",
       "      <td>1297900800</td>\n",
       "      <td>2417</td>\n",
       "      <td>11</td>\n",
       "      <td>US</td>\n",
       "      <td>USD</td>\n",
       "      <td>0.0</td>\n",
       "      <td>&lt;p&gt;Writers and filmmakers need to understand t...</td>\n",
       "      <td>artsandbusinesscouncil.org</td>\n",
       "      <td>1291994666</td>\n",
       "      <td>...</td>\n",
       "      <td>[{'event_id': 1114349, 'cost': 150.0, 'availab...</td>\n",
       "      <td>35</td>\n",
       "      <td>1288984065</td>\n",
       "      <td>3</td>\n",
       "      <td>One Marina Park Drive</td>\n",
       "      <td>US</td>\n",
       "      <td>42.353848</td>\n",
       "      <td>-71.044276</td>\n",
       "      <td>Fish &amp; Richardson</td>\n",
       "      <td>MA</td>\n",
       "    </tr>\n",
       "    <tr>\n",
       "      <th>...</th>\n",
       "      <td>...</td>\n",
       "      <td>...</td>\n",
       "      <td>...</td>\n",
       "      <td>...</td>\n",
       "      <td>...</td>\n",
       "      <td>...</td>\n",
       "      <td>...</td>\n",
       "      <td>...</td>\n",
       "      <td>...</td>\n",
       "      <td>...</td>\n",
       "      <td>...</td>\n",
       "      <td>...</td>\n",
       "      <td>...</td>\n",
       "      <td>...</td>\n",
       "      <td>...</td>\n",
       "      <td>...</td>\n",
       "      <td>...</td>\n",
       "      <td>...</td>\n",
       "      <td>...</td>\n",
       "      <td>...</td>\n",
       "      <td>...</td>\n",
       "    </tr>\n",
       "    <tr>\n",
       "      <th>14332</th>\n",
       "      <td>fraudster_event</td>\n",
       "      <td>1361689200</td>\n",
       "      <td>667</td>\n",
       "      <td>0</td>\n",
       "      <td>US</td>\n",
       "      <td>USD</td>\n",
       "      <td>0.0</td>\n",
       "      <td>&lt;p&gt;Celebrates this wonderful holiday with the ...</td>\n",
       "      <td>yahoo.com</td>\n",
       "      <td>1360297993</td>\n",
       "      <td>...</td>\n",
       "      <td>[{'event_id': 5456442, 'cost': 45.0, 'availabi...</td>\n",
       "      <td>0</td>\n",
       "      <td>1360297993</td>\n",
       "      <td>1</td>\n",
       "      <td>6100 North Charles Street</td>\n",
       "      <td>US</td>\n",
       "      <td>39.373780</td>\n",
       "      <td>-76.629921</td>\n",
       "      <td>Elkridge Club</td>\n",
       "      <td>MD</td>\n",
       "    </tr>\n",
       "    <tr>\n",
       "      <th>14333</th>\n",
       "      <td>premium</td>\n",
       "      <td>1365566400</td>\n",
       "      <td>5812</td>\n",
       "      <td>5</td>\n",
       "      <td>US</td>\n",
       "      <td>USD</td>\n",
       "      <td>1.0</td>\n",
       "      <td>&lt;table style=\"width: 600px;\" border=\"0\" cellsp...</td>\n",
       "      <td>me.com</td>\n",
       "      <td>1360367042</td>\n",
       "      <td>...</td>\n",
       "      <td>[{'event_id': 5465112, 'cost': 90.0, 'availabi...</td>\n",
       "      <td>1374</td>\n",
       "      <td>1241625346</td>\n",
       "      <td>4</td>\n",
       "      <td>1775 E Mission Bay Dr</td>\n",
       "      <td>US</td>\n",
       "      <td>32.778906</td>\n",
       "      <td>-117.209791</td>\n",
       "      <td>Hilton San Diego Resort and Spa (Hilton Missio...</td>\n",
       "      <td>CA</td>\n",
       "    </tr>\n",
       "    <tr>\n",
       "      <th>14334</th>\n",
       "      <td>premium</td>\n",
       "      <td>1368781200</td>\n",
       "      <td>557</td>\n",
       "      <td>13</td>\n",
       "      <td></td>\n",
       "      <td>USD</td>\n",
       "      <td>0.0</td>\n",
       "      <td>&lt;p&gt;What a way to start off your Mother's Day l...</td>\n",
       "      <td>yahoo.com</td>\n",
       "      <td>1360600330</td>\n",
       "      <td>...</td>\n",
       "      <td>[{'event_id': 5465732, 'cost': 20.0, 'availabi...</td>\n",
       "      <td>84</td>\n",
       "      <td>1353386971</td>\n",
       "      <td>4</td>\n",
       "      <td>5991 Bullard Road</td>\n",
       "      <td>US</td>\n",
       "      <td>30.041819</td>\n",
       "      <td>-89.957130</td>\n",
       "      <td>Fleur De Lis Ballroom NUMBER 2</td>\n",
       "      <td>LA</td>\n",
       "    </tr>\n",
       "    <tr>\n",
       "      <th>14335</th>\n",
       "      <td>tos_warn</td>\n",
       "      <td>1361361600</td>\n",
       "      <td>10873</td>\n",
       "      <td>8</td>\n",
       "      <td>US</td>\n",
       "      <td>USD</td>\n",
       "      <td>0.0</td>\n",
       "      <td>&lt;p style=\"font-family: 'Helvetica Neue', Helve...</td>\n",
       "      <td>velvetlist.com</td>\n",
       "      <td>1360376285</td>\n",
       "      <td>...</td>\n",
       "      <td>[{'event_id': 5465810, 'cost': 79.33, 'availab...</td>\n",
       "      <td>812</td>\n",
       "      <td>1290204991</td>\n",
       "      <td>3</td>\n",
       "      <td>2297 Cedar Ave</td>\n",
       "      <td>US</td>\n",
       "      <td>40.862283</td>\n",
       "      <td>-73.911363</td>\n",
       "      <td>Salsa con fuego</td>\n",
       "      <td>NY</td>\n",
       "    </tr>\n",
       "    <tr>\n",
       "      <th>14336</th>\n",
       "      <td>fraudster_event</td>\n",
       "      <td>1363316400</td>\n",
       "      <td>0</td>\n",
       "      <td>0</td>\n",
       "      <td>GB</td>\n",
       "      <td>GBP</td>\n",
       "      <td>0.0</td>\n",
       "      <td></td>\n",
       "      <td>gmail.com</td>\n",
       "      <td>1360686846</td>\n",
       "      <td>...</td>\n",
       "      <td>[{'event_id': 5492990, 'cost': 283.0, 'availab...</td>\n",
       "      <td>0</td>\n",
       "      <td>1360686845</td>\n",
       "      <td>1</td>\n",
       "      <td>192 Pembroke Street</td>\n",
       "      <td>GB</td>\n",
       "      <td>51.460131</td>\n",
       "      <td>-2.586503</td>\n",
       "      <td>massage salon private house</td>\n",
       "      <td>Bristol, City Of</td>\n",
       "    </tr>\n",
       "  </tbody>\n",
       "</table>\n",
       "<p>14337 rows × 44 columns</p>\n",
       "</div>"
      ],
      "text/plain": [
       "             acct_type  approx_payout_date  body_length  channels country  \\\n",
       "0      fraudster_event          1266062400         3852         5      US   \n",
       "1              premium          1296720000         3499         0      US   \n",
       "2              premium          1296172800         2601         8      US   \n",
       "3              premium          1388966400        12347         6      IE   \n",
       "4              premium          1297900800         2417        11      US   \n",
       "...                ...                 ...          ...       ...     ...   \n",
       "14332  fraudster_event          1361689200          667         0      US   \n",
       "14333          premium          1365566400         5812         5      US   \n",
       "14334          premium          1368781200          557        13           \n",
       "14335         tos_warn          1361361600        10873         8      US   \n",
       "14336  fraudster_event          1363316400            0         0      GB   \n",
       "\n",
       "      currency  delivery_method  \\\n",
       "0          USD              0.0   \n",
       "1          USD              1.0   \n",
       "2          USD              1.0   \n",
       "3          EUR              1.0   \n",
       "4          USD              0.0   \n",
       "...        ...              ...   \n",
       "14332      USD              0.0   \n",
       "14333      USD              1.0   \n",
       "14334      USD              0.0   \n",
       "14335      USD              0.0   \n",
       "14336      GBP              0.0   \n",
       "\n",
       "                                             description  \\\n",
       "0      <p><a href=\"http://s432.photobucket.com/albums...   \n",
       "1      <p>Join us for a quick, one-night, community-b...   \n",
       "2      <h3><span class=\"subcategory\"><strong>Teacher ...   \n",
       "3      <p style=\"margin-bottom: 1.3em; padding-bottom...   \n",
       "4      <p>Writers and filmmakers need to understand t...   \n",
       "...                                                  ...   \n",
       "14332  <p>Celebrates this wonderful holiday with the ...   \n",
       "14333  <table style=\"width: 600px;\" border=\"0\" cellsp...   \n",
       "14334  <p>What a way to start off your Mother's Day l...   \n",
       "14335  <p style=\"font-family: 'Helvetica Neue', Helve...   \n",
       "14336                                                      \n",
       "\n",
       "                     email_domain  event_created  ...  \\\n",
       "0                       gmail.com     1262739706  ...   \n",
       "1                         ruf.org     1293832670  ...   \n",
       "2                  pvsd.k12.ca.us     1291090956  ...   \n",
       "3            irishtabletennis.com     1360681570  ...   \n",
       "4      artsandbusinesscouncil.org     1291994666  ...   \n",
       "...                           ...            ...  ...   \n",
       "14332                   yahoo.com     1360297993  ...   \n",
       "14333                      me.com     1360367042  ...   \n",
       "14334                   yahoo.com     1360600330  ...   \n",
       "14335              velvetlist.com     1360376285  ...   \n",
       "14336                   gmail.com     1360686846  ...   \n",
       "\n",
       "                                            ticket_types  user_age  \\\n",
       "0      [{'event_id': 527017, 'cost': 25.0, 'availabil...        36   \n",
       "1      [{'event_id': 786878, 'cost': 35.0, 'availabil...       149   \n",
       "2      [{'event_id': 787337, 'cost': 93.51, 'availabi...       214   \n",
       "3      [{'event_id': 885645, 'cost': 25.0, 'availabil...       889   \n",
       "4      [{'event_id': 1114349, 'cost': 150.0, 'availab...        35   \n",
       "...                                                  ...       ...   \n",
       "14332  [{'event_id': 5456442, 'cost': 45.0, 'availabi...         0   \n",
       "14333  [{'event_id': 5465112, 'cost': 90.0, 'availabi...      1374   \n",
       "14334  [{'event_id': 5465732, 'cost': 20.0, 'availabi...        84   \n",
       "14335  [{'event_id': 5465810, 'cost': 79.33, 'availab...       812   \n",
       "14336  [{'event_id': 5492990, 'cost': 283.0, 'availab...         0   \n",
       "\n",
       "       user_created  user_type                 venue_address  venue_country  \\\n",
       "0        1259613950          1         717 Washington Avenue             US   \n",
       "1        1280942776          3                                           US   \n",
       "2        1272559388          3  10100 Pioneer Blvd Suite 100             US   \n",
       "3        1283870102          3                                         None   \n",
       "4        1288984065          3        One Marina Park Drive              US   \n",
       "...             ...        ...                           ...            ...   \n",
       "14332    1360297993          1     6100 North Charles Street             US   \n",
       "14333    1241625346          4         1775 E Mission Bay Dr             US   \n",
       "14334    1353386971          4             5991 Bullard Road             US   \n",
       "14335    1290204991          3               2297 Cedar Ave              US   \n",
       "14336    1360686845          1           192 Pembroke Street             GB   \n",
       "\n",
       "       venue_latitude  venue_longitude  \\\n",
       "0           25.777471       -80.133433   \n",
       "1           32.776566       -79.930922   \n",
       "2           33.944201      -118.080419   \n",
       "3                 NaN              NaN   \n",
       "4           42.353848       -71.044276   \n",
       "...               ...              ...   \n",
       "14332       39.373780       -76.629921   \n",
       "14333       32.778906      -117.209791   \n",
       "14334       30.041819       -89.957130   \n",
       "14335       40.862283       -73.911363   \n",
       "14336       51.460131        -2.586503   \n",
       "\n",
       "                                              venue_name       venue_state  \n",
       "0                            INK Nightclub - South Beach                FL  \n",
       "1                                The Charleston, SC area                SC  \n",
       "2                 Los Angeles County Office of Education                CA  \n",
       "3                                                   None              None  \n",
       "4                                      Fish & Richardson                MA  \n",
       "...                                                  ...               ...  \n",
       "14332                                      Elkridge Club                MD  \n",
       "14333  Hilton San Diego Resort and Spa (Hilton Missio...                CA  \n",
       "14334                     Fleur De Lis Ballroom NUMBER 2                LA  \n",
       "14335                                   Salsa con fuego                 NY  \n",
       "14336                        massage salon private house  Bristol, City Of  \n",
       "\n",
       "[14337 rows x 44 columns]"
      ]
     },
     "execution_count": 61,
     "metadata": {},
     "output_type": "execute_result"
    }
   ],
   "source": [
    "df"
   ]
  },
  {
   "cell_type": "code",
   "execution_count": 64,
   "metadata": {},
   "outputs": [],
   "source": [
    "temp = dict()\n",
    "temp = {'target': df['fraud'].copy(), \n",
    "        #'premium': df.acct_type.apply(lambda x: not_premium(x)),\n",
    "        'previous_payout': df.previous_payouts.apply(lambda x: no_previous_payout(x)),\n",
    "        'no_payout_name': df.previous_payouts.apply(lambda x: payout_name_flag(x)),\n",
    "        'payout_toself': df.apply(lambda x: payout_toself(x.payee_name, x.previous_payouts), axis = 1),\n",
    "        'missing_data': df.isnull().any(axis = 1) * 1\n",
    "       }"
   ]
  },
  {
   "cell_type": "code",
   "execution_count": 65,
   "metadata": {},
   "outputs": [
    {
     "data": {
      "text/html": [
       "<div>\n",
       "<style scoped>\n",
       "    .dataframe tbody tr th:only-of-type {\n",
       "        vertical-align: middle;\n",
       "    }\n",
       "\n",
       "    .dataframe tbody tr th {\n",
       "        vertical-align: top;\n",
       "    }\n",
       "\n",
       "    .dataframe thead th {\n",
       "        text-align: right;\n",
       "    }\n",
       "</style>\n",
       "<table border=\"1\" class=\"dataframe\">\n",
       "  <thead>\n",
       "    <tr style=\"text-align: right;\">\n",
       "      <th></th>\n",
       "      <th>target</th>\n",
       "      <th>previous_payout</th>\n",
       "      <th>no_payout_name</th>\n",
       "      <th>payout_toself</th>\n",
       "      <th>missing_data</th>\n",
       "    </tr>\n",
       "  </thead>\n",
       "  <tbody>\n",
       "    <tr>\n",
       "      <th>0</th>\n",
       "      <td>1</td>\n",
       "      <td>1</td>\n",
       "      <td>0</td>\n",
       "      <td>0</td>\n",
       "      <td>0</td>\n",
       "    </tr>\n",
       "    <tr>\n",
       "      <th>1</th>\n",
       "      <td>0</td>\n",
       "      <td>0</td>\n",
       "      <td>1</td>\n",
       "      <td>1</td>\n",
       "      <td>0</td>\n",
       "    </tr>\n",
       "    <tr>\n",
       "      <th>2</th>\n",
       "      <td>0</td>\n",
       "      <td>0</td>\n",
       "      <td>1</td>\n",
       "      <td>1</td>\n",
       "      <td>1</td>\n",
       "    </tr>\n",
       "    <tr>\n",
       "      <th>3</th>\n",
       "      <td>0</td>\n",
       "      <td>0</td>\n",
       "      <td>0</td>\n",
       "      <td>1</td>\n",
       "      <td>1</td>\n",
       "    </tr>\n",
       "    <tr>\n",
       "      <th>4</th>\n",
       "      <td>0</td>\n",
       "      <td>0</td>\n",
       "      <td>1</td>\n",
       "      <td>1</td>\n",
       "      <td>0</td>\n",
       "    </tr>\n",
       "  </tbody>\n",
       "</table>\n",
       "</div>"
      ],
      "text/plain": [
       "   target  previous_payout  no_payout_name  payout_toself  missing_data\n",
       "0       1                1               0              0             0\n",
       "1       0                0               1              1             0\n",
       "2       0                0               1              1             1\n",
       "3       0                0               0              1             1\n",
       "4       0                0               1              1             0"
      ]
     },
     "execution_count": 65,
     "metadata": {},
     "output_type": "execute_result"
    }
   ],
   "source": [
    "df = pd.DataFrame(temp)\n",
    "df.head()"
   ]
  },
  {
   "cell_type": "code",
   "execution_count": 66,
   "metadata": {},
   "outputs": [],
   "source": [
    "def get_crosstab(X, y, model_type):\n",
    "    Xtrain, Xtest, ytrain, ytest = train_test_split(X, y)\n",
    "    model = model_type\n",
    "    model.fit(Xtrain, ytrain)\n",
    "    print(model.predict_proba(Xtest))\n",
    "    predicted = model.predict(Xtest)\n",
    "    actual = ytest\n",
    "    crosstab = pd.crosstab(ytest, model.predict(Xtest), rownames=['actual'], colnames=['predicted'])\n",
    "    return model, crosstab"
   ]
  },
  {
   "cell_type": "markdown",
   "metadata": {},
   "source": [
    "# ----- Grid Search "
   ]
  },
  {
   "cell_type": "code",
   "execution_count": 67,
   "metadata": {},
   "outputs": [],
   "source": [
    "rfc = RandomForestClassifier(random_state=0)\n",
    "param_grid = { \n",
    "    'n_estimators': [200, 500],\n",
    "    'max_features': ['auto', 'sqrt', 'log2'],\n",
    "    'max_depth' : [4,5,6,7,8],\n",
    "    'criterion' :['gini', 'entropy']\n",
    "}\n",
    "\n",
    "Xtrain, Xtest, ytrain, ytest = train_test_split(df.drop('target', axis = 1), df['target'])"
   ]
  },
  {
   "cell_type": "code",
   "execution_count": 68,
   "metadata": {},
   "outputs": [
    {
     "data": {
      "text/plain": [
       "GridSearchCV(cv=5, estimator=RandomForestClassifier(random_state=0),\n",
       "             param_grid={'criterion': ['gini', 'entropy'],\n",
       "                         'max_depth': [4, 5, 6, 7, 8],\n",
       "                         'max_features': ['auto', 'sqrt', 'log2'],\n",
       "                         'n_estimators': [200, 500]})"
      ]
     },
     "execution_count": 68,
     "metadata": {},
     "output_type": "execute_result"
    }
   ],
   "source": [
    "CV_rfc = GridSearchCV(estimator = rfc, param_grid = param_grid, cv= 5)\n",
    "CV_rfc.fit(Xtrain, ytrain)"
   ]
  },
  {
   "cell_type": "code",
   "execution_count": 69,
   "metadata": {},
   "outputs": [
    {
     "data": {
      "text/plain": [
       "{'criterion': 'gini',\n",
       " 'max_depth': 4,\n",
       " 'max_features': 'auto',\n",
       " 'n_estimators': 200}"
      ]
     },
     "execution_count": 69,
     "metadata": {},
     "output_type": "execute_result"
    }
   ],
   "source": [
    "params = CV_rfc.best_params_\n",
    "params"
   ]
  },
  {
   "cell_type": "raw",
   "metadata": {},
   "source": [
    "{'criterion': 'gini',\n",
    " 'max_depth': 4,\n",
    " 'max_features': 'auto',\n",
    " 'n_estimators': 200}"
   ]
  },
  {
   "cell_type": "code",
   "execution_count": 80,
   "metadata": {},
   "outputs": [
    {
     "name": "stdout",
     "output_type": "stream",
     "text": [
      "[[0.04051674 0.95948326]\n",
      " [0.96116233 0.03883767]\n",
      " [0.97949803 0.02050197]\n",
      " ...\n",
      " [0.97949803 0.02050197]\n",
      " [0.97949803 0.02050197]\n",
      " [0.99296543 0.00703457]]\n"
     ]
    },
    {
     "data": {
      "text/plain": [
       "(RandomForestClassifier(max_depth=4, n_estimators=200),\n",
       " predicted     0    1\n",
       " actual              \n",
       " 0          3272   24\n",
       " 1            69  220)"
      ]
     },
     "execution_count": 80,
     "metadata": {},
     "output_type": "execute_result"
    }
   ],
   "source": [
    "get_crosstab(df.drop('target', axis = 1), df['target'], RandomForestClassifier(**params))"
   ]
  },
  {
   "cell_type": "code",
   "execution_count": 55,
   "metadata": {},
   "outputs": [
    {
     "data": {
      "text/plain": [
       "0.23053892215568864"
      ]
     },
     "execution_count": 55,
     "metadata": {},
     "output_type": "execute_result"
    }
   ],
   "source": [
    "77 / (77 + 257)"
   ]
  },
  {
   "cell_type": "markdown",
   "metadata": {},
   "source": [
    "### Columns in API \n",
    "> 'body_length', 'channels', 'country', 'currency', 'delivery_method',\n",
    "   'description', 'email_domain', 'event_created', 'event_end',\n",
    "   'event_published', 'event_start', 'fb_published', 'has_analytics',\n",
    "   'has_header', 'has_logo', 'listed', 'name', 'name_length', 'object_id',\n",
    "   'org_desc', 'org_facebook', 'org_name', 'org_twitter', 'payee_name',\n",
    "   'payout_type', 'previous_payouts', 'sale_duration', 'show_map',\n",
    "   'ticket_types', 'user_age', 'user_created', 'user_type',\n",
    "   'venue_address', 'venue_country', 'venue_latitude', 'venue_longitude',\n",
    "   'venue_name', 'venue_state', 'sequence_number'"
   ]
  }
 ],
 "metadata": {
  "kernelspec": {
   "display_name": "Python 3",
   "language": "python",
   "name": "python3"
  },
  "language_info": {
   "codemirror_mode": {
    "name": "ipython",
    "version": 3
   },
   "file_extension": ".py",
   "mimetype": "text/x-python",
   "name": "python",
   "nbconvert_exporter": "python",
   "pygments_lexer": "ipython3",
   "version": "3.8.5"
  }
 },
 "nbformat": 4,
 "nbformat_minor": 4
}
