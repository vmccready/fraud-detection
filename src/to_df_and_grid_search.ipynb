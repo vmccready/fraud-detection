{
 "cells": [
  {
   "cell_type": "code",
   "execution_count": 1,
   "metadata": {},
   "outputs": [],
   "source": [
    "# Imports \n",
    "import pandas as pd\n",
    "import numpy as np\n",
    "import matplotlib.pyplot as plt\n",
    "from bs4 import BeautifulSoup\n",
    "from sklearn.ensemble import RandomForestClassifier\n",
    "from sklearn.model_selection import train_test_split\n",
    "from sklearn.model_selection import GridSearchCV\n",
    "\n",
    "%matplotlib inline "
   ]
  },
  {
   "cell_type": "code",
   "execution_count": 2,
   "metadata": {
    "scrolled": true
   },
   "outputs": [],
   "source": [
    "# That Data\n",
    "df = pd.read_json('../../../Data/data.json')\n",
    "# Make fraud column \n",
    "df['fraud'] = df.acct_type.apply(lambda x: 1 if 'fraud' in x else 0)"
   ]
  },
  {
   "cell_type": "raw",
   "metadata": {},
   "source": [
    "df = pd.read_json('../../../Data/api_data.json')"
   ]
  },
  {
   "cell_type": "raw",
   "metadata": {},
   "source": [
    "temp = dict()\n",
    "temp = {'target': df['fraud'].copy(), \n",
    "        #'premium': df.acct_type.apply(lambda x: not_premium(x)),\n",
    "        'previous_payout': df.previous_payouts.apply(lambda x: no_previous_payout(x)),\n",
    "        'no_payout_name': df.previous_payouts.apply(lambda x: payout_name_flag(x)),\n",
    "        'payout_toself': df.apply(lambda x: payout_toself(x.payee_name, x.previous_payouts), axis = 1),\n",
    "        'missing_data': df.isnull().any(axis = 1) * 1\n",
    "       }"
   ]
  },
  {
   "cell_type": "code",
   "execution_count": 70,
   "metadata": {},
   "outputs": [],
   "source": [
    "import requests\n",
    "api_url='https://hxobin8em5.execute-api.us-west-2.amazonaws.com/api/'\n",
    "api_key='vYm9mTUuspeyAWH1v-acfoTlck-tCxwTw9YfCynC'\n",
    "\n",
    "def get_data(next_sequence_number):\n",
    "    \"\"\"Fetch data from the API.\"\"\"\n",
    "    payload = {'api_key': api_key,\n",
    "               'sequence_number': next_sequence_number}\n",
    "    response = requests.post(api_url, json=payload)\n",
    "    data = response.json()\n",
    "    next_sequence_number = data['_next_sequence_number']\n",
    "    return data['data']"
   ]
  },
  {
   "cell_type": "code",
   "execution_count": 9,
   "metadata": {},
   "outputs": [],
   "source": [
    "x = get_data(0)[0]"
   ]
  },
  {
   "cell_type": "code",
   "execution_count": 71,
   "metadata": {},
   "outputs": [],
   "source": [
    "import math \n",
    "\n",
    "def missing_data(x):\n",
    "    '''\n",
    "    Param:\n",
    "        x: dictionary\n",
    "    Return:\n",
    "        1 if missing value is found else 0\n",
    "    '''\n",
    "    for value in x.values():\n",
    "        if value == '':\n",
    "            return 1\n",
    "    return 0\n",
    "\n",
    "def no_previous_payout(x):\n",
    "    '''\n",
    "    Param:\n",
    "        list of previous payouts \n",
    "    '''\n",
    "    return 1 if len(x) <= 0 else 0\n",
    "\n",
    "def payout_name_flag(x):\n",
    "    '''\n",
    "    Param:\n",
    "        list of previous payouts \n",
    "    '''\n",
    "    for d in x:\n",
    "        if len(d['name']) < 3:\n",
    "            return 1\n",
    "    return 0\n",
    "\n",
    "def payout_toself(payee, payouts):\n",
    "    '''\n",
    "    Param:\n",
    "        payee: payee \n",
    "        payouts: list of previous payouts \n",
    "    '''\n",
    "    for pay in payouts:\n",
    "        if payee.lower() in pay['name'].lower():\n",
    "            return 1\n",
    "    return 0\n",
    "\n",
    "def payee_name_flag(x):\n",
    "    return 1 if len(x) < 3 else 0\n",
    "\n",
    "def delivery(x):\n",
    "    if math.isnan(x): return 0\n",
    "    return int(x)"
   ]
  },
  {
   "cell_type": "code",
   "execution_count": 72,
   "metadata": {},
   "outputs": [],
   "source": [
    "def parse_data(data):\n",
    "    '''\n",
    "        Param:\n",
    "            api data call\n",
    "    '''\n",
    "    temp = dict()\n",
    "    \n",
    "    if type(data) == type(dict()):\n",
    "        temp = {\n",
    "            'payout_toself': payout_toself(data['payee_name'], data['previous_payouts']),\n",
    "            'missing_data': missing_data(data),\n",
    "            'previous_payout': no_previous_payout(data['previous_payouts']),\n",
    "            'no_payout_name': payout_name_flag(data['previous_payouts']),\n",
    "            'no_payee_name': payee_name_flag(data['payee_name']),\n",
    "            'account_type': data['user_type'],\n",
    "            'delivery_method': delivery(data['delivery_method']),\n",
    "            'user_age': data['user_age']}\n",
    "    else:\n",
    "        temp = {\n",
    "            'payout_toself': data.apply(lambda x: payout_toself(x.payee_name, x.previous_payouts), axis = 1),\n",
    "            'missing_data': data.isnull().any(axis = 1) * 1,\n",
    "            'previous_payout': data.previous_payouts.apply(lambda x: no_previous_payout(x)),\n",
    "            'no_payout_name': data.previous_payouts.apply(lambda x: payout_name_flag(x)),\n",
    "            'no_payee_name': data.payee_name.apply(lambda x: payee_name_flag(x)),\n",
    "            'account_type': data.user_type,\n",
    "            'delivery_method': data.delivery_method.apply(lambda x: delivery(x)),\n",
    "            'user_age': data.user_age }\n",
    "    \n",
    "    return temp"
   ]
  },
  {
   "cell_type": "code",
   "execution_count": 73,
   "metadata": {},
   "outputs": [
    {
     "data": {
      "text/plain": [
       "{'payout_toself': 1,\n",
       " 'missing_data': 1,\n",
       " 'previous_payout': 0,\n",
       " 'no_payout_name': 1,\n",
       " 'no_payee_name': 1,\n",
       " 'account_type': 3,\n",
       " 'delivery_method': 1,\n",
       " 'user_age': 554}"
      ]
     },
     "execution_count": 73,
     "metadata": {},
     "output_type": "execute_result"
    }
   ],
   "source": [
    "parse_data(x)"
   ]
  },
  {
   "cell_type": "code",
   "execution_count": 77,
   "metadata": {},
   "outputs": [
    {
     "data": {
      "text/plain": [
       "[{'name': '',\n",
       "  'created': '2011-08-16 01:10:49',\n",
       "  'country': 'US',\n",
       "  'amount': 15216.0,\n",
       "  'state': '',\n",
       "  'address': '',\n",
       "  'uid': 15720743,\n",
       "  'event': 1882045,\n",
       "  'zip_code': ''},\n",
       " {'name': '',\n",
       "  'created': '2011-08-19 01:10:50',\n",
       "  'country': 'US',\n",
       "  'amount': 1666.0,\n",
       "  'state': '',\n",
       "  'address': '',\n",
       "  'uid': 15720743,\n",
       "  'event': 1801979,\n",
       "  'zip_code': ''},\n",
       " {'name': '',\n",
       "  'created': '2011-10-25 00:00:00',\n",
       "  'country': '',\n",
       "  'amount': 3800.01,\n",
       "  'state': '',\n",
       "  'address': '',\n",
       "  'uid': 15720743,\n",
       "  'event': 1732985,\n",
       "  'zip_code': ''},\n",
       " {'name': '',\n",
       "  'created': '2011-10-25 00:00:00',\n",
       "  'country': 'US',\n",
       "  'amount': 8556.16,\n",
       "  'state': '',\n",
       "  'address': '',\n",
       "  'uid': 15720743,\n",
       "  'event': 1885287,\n",
       "  'zip_code': ''},\n",
       " {'name': '',\n",
       "  'created': '2011-10-31 01:11:28',\n",
       "  'country': 'US',\n",
       "  'amount': 4928.84,\n",
       "  'state': '',\n",
       "  'address': '',\n",
       "  'uid': 15720743,\n",
       "  'event': 1885287,\n",
       "  'zip_code': ''},\n",
       " {'name': '',\n",
       "  'created': '2011-11-20 03:11:38',\n",
       "  'country': 'US',\n",
       "  'amount': 7310.0,\n",
       "  'state': '',\n",
       "  'address': '',\n",
       "  'uid': 15720743,\n",
       "  'event': 2172244,\n",
       "  'zip_code': ''},\n",
       " {'name': '',\n",
       "  'created': '2011-11-21 03:11:56',\n",
       "  'country': 'US',\n",
       "  'amount': 27.0,\n",
       "  'state': '',\n",
       "  'address': '',\n",
       "  'uid': 15720743,\n",
       "  'event': 2172548,\n",
       "  'zip_code': ''},\n",
       " {'name': '',\n",
       "  'created': '2011-12-06 03:12:20',\n",
       "  'country': '',\n",
       "  'amount': 12969.99,\n",
       "  'state': '',\n",
       "  'address': '',\n",
       "  'uid': 15720743,\n",
       "  'event': 1732985,\n",
       "  'zip_code': ''},\n",
       " {'name': '',\n",
       "  'created': '2011-12-08 03:12:21',\n",
       "  'country': 'US',\n",
       "  'amount': 14165.0,\n",
       "  'state': '',\n",
       "  'address': '',\n",
       "  'uid': 15720743,\n",
       "  'event': 1756619,\n",
       "  'zip_code': ''},\n",
       " {'name': '',\n",
       "  'created': '2012-01-13 00:00:00',\n",
       "  'country': '',\n",
       "  'amount': 21591.0,\n",
       "  'state': '',\n",
       "  'address': '',\n",
       "  'uid': 15720743,\n",
       "  'event': 2583900,\n",
       "  'zip_code': ''},\n",
       " {'name': '',\n",
       "  'created': '2012-01-25 03:12:18',\n",
       "  'country': '',\n",
       "  'amount': 29811.98,\n",
       "  'state': '',\n",
       "  'address': '',\n",
       "  'uid': 15720743,\n",
       "  'event': 2583900,\n",
       "  'zip_code': ''},\n",
       " {'name': '',\n",
       "  'created': '2012-02-03 03:12:10',\n",
       "  'country': 'US',\n",
       "  'amount': 3840.9,\n",
       "  'state': '',\n",
       "  'address': '',\n",
       "  'uid': 15720743,\n",
       "  'event': 2593350,\n",
       "  'zip_code': ''},\n",
       " {'name': '',\n",
       "  'created': '2012-02-09 03:11:57',\n",
       "  'country': 'US',\n",
       "  'amount': 60.0,\n",
       "  'state': '',\n",
       "  'address': '',\n",
       "  'uid': 15720743,\n",
       "  'event': 2355732,\n",
       "  'zip_code': ''},\n",
       " {'name': '',\n",
       "  'created': '2012-02-24 03:12:59',\n",
       "  'country': 'US',\n",
       "  'amount': 595.0,\n",
       "  'state': '',\n",
       "  'address': '',\n",
       "  'uid': 15720743,\n",
       "  'event': 2855109,\n",
       "  'zip_code': ''},\n",
       " {'name': '',\n",
       "  'created': '2012-03-06 03:13:06',\n",
       "  'country': 'US',\n",
       "  'amount': 3876.11,\n",
       "  'state': '',\n",
       "  'address': '',\n",
       "  'uid': 15720743,\n",
       "  'event': 2781933,\n",
       "  'zip_code': ''},\n",
       " {'name': '',\n",
       "  'created': '2012-03-23 00:00:00',\n",
       "  'country': '',\n",
       "  'amount': 7540.39,\n",
       "  'state': '',\n",
       "  'address': '',\n",
       "  'uid': 15720743,\n",
       "  'event': 2995187,\n",
       "  'zip_code': ''},\n",
       " {'name': '',\n",
       "  'created': '2012-04-03 03:13:34',\n",
       "  'country': '',\n",
       "  'amount': 11143.74,\n",
       "  'state': '',\n",
       "  'address': '',\n",
       "  'uid': 15720743,\n",
       "  'event': 2995187,\n",
       "  'zip_code': ''},\n",
       " {'name': '',\n",
       "  'created': '2012-04-03 03:13:38',\n",
       "  'country': 'US',\n",
       "  'amount': 4485.0,\n",
       "  'state': '',\n",
       "  'address': '',\n",
       "  'uid': 15720743,\n",
       "  'event': 2879985,\n",
       "  'zip_code': ''},\n",
       " {'name': '',\n",
       "  'created': '2012-04-04 03:13:46',\n",
       "  'country': 'US',\n",
       "  'amount': 4406.11,\n",
       "  'state': '',\n",
       "  'address': '',\n",
       "  'uid': 15720743,\n",
       "  'event': 2880015,\n",
       "  'zip_code': ''},\n",
       " {'name': '',\n",
       "  'created': '2012-04-05 03:14:47',\n",
       "  'country': 'US',\n",
       "  'amount': 2022.11,\n",
       "  'state': '',\n",
       "  'address': '',\n",
       "  'uid': 15720743,\n",
       "  'event': 2879927,\n",
       "  'zip_code': ''},\n",
       " {'name': '',\n",
       "  'created': '2012-04-07 03:13:06',\n",
       "  'country': 'US',\n",
       "  'amount': 2078.0,\n",
       "  'state': '',\n",
       "  'address': '',\n",
       "  'uid': 15720743,\n",
       "  'event': 2957005,\n",
       "  'zip_code': ''},\n",
       " {'name': '',\n",
       "  'created': '2012-04-10 03:13:43',\n",
       "  'country': 'US',\n",
       "  'amount': 660.0,\n",
       "  'state': '',\n",
       "  'address': '',\n",
       "  'uid': 15720743,\n",
       "  'event': 3050849,\n",
       "  'zip_code': ''},\n",
       " {'name': '',\n",
       "  'created': '2012-04-22 03:13:52',\n",
       "  'country': 'US',\n",
       "  'amount': 2689.11,\n",
       "  'state': '',\n",
       "  'address': '',\n",
       "  'uid': 15720743,\n",
       "  'event': 2880125,\n",
       "  'zip_code': ''},\n",
       " {'name': '',\n",
       "  'created': '2012-04-24 03:14:59',\n",
       "  'country': 'US',\n",
       "  'amount': 3209.11,\n",
       "  'state': '',\n",
       "  'address': '',\n",
       "  'uid': 15720743,\n",
       "  'event': 2880155,\n",
       "  'zip_code': ''},\n",
       " {'name': '',\n",
       "  'created': '2012-05-01 03:14:24',\n",
       "  'country': 'US',\n",
       "  'amount': 1275.0,\n",
       "  'state': '',\n",
       "  'address': '',\n",
       "  'uid': 15720743,\n",
       "  'event': 3194371,\n",
       "  'zip_code': ''},\n",
       " {'name': '',\n",
       "  'created': '2012-05-03 03:16:28',\n",
       "  'country': 'US',\n",
       "  'amount': 1305.0,\n",
       "  'state': '',\n",
       "  'address': '',\n",
       "  'uid': 15720743,\n",
       "  'event': 3284421,\n",
       "  'zip_code': ''},\n",
       " {'name': '',\n",
       "  'created': '2012-05-29 03:13:22',\n",
       "  'country': 'US',\n",
       "  'amount': 7866.8,\n",
       "  'state': '',\n",
       "  'address': '',\n",
       "  'uid': 15720743,\n",
       "  'event': 3394773,\n",
       "  'zip_code': ''},\n",
       " {'name': 'Otter Productions, Inc.',\n",
       "  'created': '2012-07-29 03:14:19',\n",
       "  'country': 'US',\n",
       "  'amount': 7875.0,\n",
       "  'state': 'CA',\n",
       "  'address': 'PO Box 464',\n",
       "  'uid': 15720743,\n",
       "  'event': 3708716,\n",
       "  'zip_code': '93428'},\n",
       " {'name': '',\n",
       "  'created': '2012-08-24 03:14:27',\n",
       "  'country': 'US',\n",
       "  'amount': 2223.0,\n",
       "  'state': '',\n",
       "  'address': '',\n",
       "  'uid': 15720743,\n",
       "  'event': 3829052,\n",
       "  'zip_code': ''},\n",
       " {'name': '',\n",
       "  'created': '2012-09-12 00:00:00',\n",
       "  'country': 'US',\n",
       "  'amount': 4076.64,\n",
       "  'state': '',\n",
       "  'address': '',\n",
       "  'uid': 15720743,\n",
       "  'event': 4208114,\n",
       "  'zip_code': ''},\n",
       " {'name': '',\n",
       "  'created': '2012-10-08 03:17:28',\n",
       "  'country': 'US',\n",
       "  'amount': 5952.62,\n",
       "  'state': '',\n",
       "  'address': '',\n",
       "  'uid': 15720743,\n",
       "  'event': 4190984,\n",
       "  'zip_code': ''},\n",
       " {'name': '',\n",
       "  'created': '2012-10-13 03:15:51',\n",
       "  'country': 'US',\n",
       "  'amount': 1918.0,\n",
       "  'state': '',\n",
       "  'address': '',\n",
       "  'uid': 15720743,\n",
       "  'event': 4091380,\n",
       "  'zip_code': ''},\n",
       " {'name': '',\n",
       "  'created': '2012-10-24 03:17:57',\n",
       "  'country': 'US',\n",
       "  'amount': 11351.67,\n",
       "  'state': '',\n",
       "  'address': '',\n",
       "  'uid': 15720743,\n",
       "  'event': 4323356,\n",
       "  'zip_code': ''},\n",
       " {'name': '',\n",
       "  'created': '2012-11-04 03:17:40',\n",
       "  'country': 'US',\n",
       "  'amount': 15513.38,\n",
       "  'state': '',\n",
       "  'address': '',\n",
       "  'uid': 15720743,\n",
       "  'event': 4208114,\n",
       "  'zip_code': ''},\n",
       " {'name': '',\n",
       "  'created': '2012-11-05 03:17:36',\n",
       "  'country': 'US',\n",
       "  'amount': 8720.0,\n",
       "  'state': '',\n",
       "  'address': '',\n",
       "  'uid': 15720743,\n",
       "  'event': 4073934,\n",
       "  'zip_code': ''},\n",
       " {'name': '',\n",
       "  'created': '2012-11-20 03:18:11',\n",
       "  'country': 'US',\n",
       "  'amount': 1047.84,\n",
       "  'state': '',\n",
       "  'address': '',\n",
       "  'uid': 15720743,\n",
       "  'event': 4564576,\n",
       "  'zip_code': ''},\n",
       " {'name': '',\n",
       "  'created': '2012-11-28 03:16:11',\n",
       "  'country': 'US',\n",
       "  'amount': 9694.94,\n",
       "  'state': '',\n",
       "  'address': '',\n",
       "  'uid': 15720743,\n",
       "  'event': 4657845,\n",
       "  'zip_code': ''}]"
      ]
     },
     "execution_count": 77,
     "metadata": {},
     "output_type": "execute_result"
    }
   ],
   "source": [
    "x['previous_payouts']"
   ]
  },
  {
   "cell_type": "markdown",
   "metadata": {},
   "source": [
    "# Grid search 2"
   ]
  },
  {
   "cell_type": "code",
   "execution_count": 49,
   "metadata": {},
   "outputs": [],
   "source": [
    "X = pd.DataFrame(parse_data(df))\n",
    "y = df.acct_type.apply(lambda x: 1 if 'fraud' in x else 0)"
   ]
  },
  {
   "cell_type": "code",
   "execution_count": 51,
   "metadata": {},
   "outputs": [
    {
     "data": {
      "text/plain": [
       "0        1\n",
       "1        0\n",
       "2        0\n",
       "3        0\n",
       "4        0\n",
       "        ..\n",
       "14332    1\n",
       "14333    0\n",
       "14334    0\n",
       "14335    0\n",
       "14336    1\n",
       "Name: acct_type, Length: 14337, dtype: int64"
      ]
     },
     "execution_count": 51,
     "metadata": {},
     "output_type": "execute_result"
    }
   ],
   "source": [
    "y"
   ]
  },
  {
   "cell_type": "code",
   "execution_count": 56,
   "metadata": {},
   "outputs": [],
   "source": [
    "rfc = RandomForestClassifier(random_state=0)\n",
    "param_grid = { \n",
    "    'n_estimators': [100, 200, 500],\n",
    "    'max_features': ['auto', 'sqrt', 'log2'],\n",
    "    'max_depth' : [4,5,6,7,8],\n",
    "    'criterion' :['gini', 'entropy']\n",
    "}\n",
    "Xtrain, Xtest, ytrain, ytest = train_test_split(X, y)"
   ]
  },
  {
   "cell_type": "code",
   "execution_count": 59,
   "metadata": {},
   "outputs": [
    {
     "data": {
      "text/plain": [
       "{'criterion': 'gini',\n",
       " 'max_depth': 5,\n",
       " 'max_features': 'log2',\n",
       " 'n_estimators': 100}"
      ]
     },
     "execution_count": 59,
     "metadata": {},
     "output_type": "execute_result"
    }
   ],
   "source": [
    "CV_rfc = GridSearchCV(estimator = rfc, param_grid = param_grid, cv= 5)\n",
    "CV_rfc.fit(Xtrain, ytrain)\n",
    "params = CV_rfc.best_params_\n",
    "params"
   ]
  },
  {
   "cell_type": "code",
   "execution_count": 60,
   "metadata": {},
   "outputs": [],
   "source": [
    "def get_crosstab(X, y, model_type):\n",
    "    Xtrain, Xtest, ytrain, ytest = train_test_split(X, y)\n",
    "    model = model_type\n",
    "    model.fit(Xtrain, ytrain)\n",
    "    print(model.predict_proba(Xtest))\n",
    "    predicted = model.predict(Xtest)\n",
    "    actual = ytest\n",
    "    crosstab = pd.crosstab(ytest, model.predict(Xtest), rownames=['actual'], colnames=['predicted'])\n",
    "    return model, crosstab"
   ]
  },
  {
   "cell_type": "code",
   "execution_count": 69,
   "metadata": {},
   "outputs": [
    {
     "name": "stdout",
     "output_type": "stream",
     "text": [
      "[[0.97669346 0.02330654]\n",
      " [0.9902892  0.0097108 ]\n",
      " [0.03328363 0.96671637]\n",
      " ...\n",
      " [0.99498496 0.00501504]\n",
      " [0.98486094 0.01513906]\n",
      " [0.98101579 0.01898421]]\n"
     ]
    },
    {
     "data": {
      "text/plain": [
       "(RandomForestClassifier(max_depth=5, max_features='log2'),\n",
       " predicted     0    1\n",
       " actual              \n",
       " 0          3238   22\n",
       " 1            69  256)"
      ]
     },
     "execution_count": 69,
     "metadata": {},
     "output_type": "execute_result"
    }
   ],
   "source": [
    "get_crosstab(X, y, RandomForestClassifier(**params))"
   ]
  },
  {
   "cell_type": "code",
   "execution_count": 105,
   "metadata": {},
   "outputs": [],
   "source": [
    "x = df[['payee_name', 'previous_payouts', 'fraud']] \n",
    "x = x[(x.fraud == 1)]"
   ]
  },
  {
   "cell_type": "code",
   "execution_count": 86,
   "metadata": {},
   "outputs": [],
   "source": [
    "y = parse_data(df)"
   ]
  },
  {
   "cell_type": "code",
   "execution_count": 104,
   "metadata": {},
   "outputs": [
    {
     "data": {
      "text/plain": [
       "1    13244\n",
       "0     1093\n",
       "dtype: int64"
      ]
     },
     "execution_count": 104,
     "metadata": {},
     "output_type": "execute_result"
    }
   ],
   "source": [
    "y['payout_toself'].value_counts()"
   ]
  },
  {
   "cell_type": "code",
   "execution_count": 96,
   "metadata": {},
   "outputs": [
    {
     "data": {
      "text/plain": [
       "True"
      ]
     },
     "execution_count": 96,
     "metadata": {},
     "output_type": "execute_result"
    }
   ],
   "source": [
    "len(x.previous_payouts[51]) > 0"
   ]
  },
  {
   "cell_type": "code",
   "execution_count": 11,
   "metadata": {},
   "outputs": [
    {
     "data": {
      "text/plain": [
       "0        99 HOUR \"NO ....\n",
       "1        Winthrop RUF....\n",
       "2        DRDP (2010) ....\n",
       "3        ITTA Affilia....\n",
       "4        Self Defense....\n",
       "               ...       \n",
       "14332    President's ....\n",
       "14333    ARCS Foundat....\n",
       "14334    TIFFANTASY E....\n",
       "14335    Valentines D....\n",
       "14336     thaimassage....\n",
       "Name: name, Length: 14337, dtype: object"
      ]
     },
     "execution_count": 11,
     "metadata": {},
     "output_type": "execute_result"
    }
   ],
   "source": [
    "df['name'].apply(lambda x: x[:12] + '....')"
   ]
  },
  {
   "cell_type": "code",
   "execution_count": null,
   "metadata": {},
   "outputs": [],
   "source": []
  }
 ],
 "metadata": {
  "kernelspec": {
   "display_name": "Python 3",
   "language": "python",
   "name": "python3"
  },
  "language_info": {
   "codemirror_mode": {
    "name": "ipython",
    "version": 3
   },
   "file_extension": ".py",
   "mimetype": "text/x-python",
   "name": "python",
   "nbconvert_exporter": "python",
   "pygments_lexer": "ipython3",
   "version": "3.8.5"
  }
 },
 "nbformat": 4,
 "nbformat_minor": 4
}
