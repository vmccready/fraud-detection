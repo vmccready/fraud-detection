{
 "cells": [
  {
   "cell_type": "code",
   "execution_count": 58,
   "metadata": {},
   "outputs": [],
   "source": [
    "# Imports \n",
    "import pandas as pd\n",
    "import numpy as np\n",
    "import matplotlib.pyplot as plt\n",
    "from bs4 import BeautifulSoup\n",
    "from sklearn.ensemble import RandomForestClassifier\n",
    "from sklearn.model_selection import train_test_split\n",
    "from sklearn.model_selection import GridSearchCV\n",
    "\n",
    "%matplotlib inline "
   ]
  },
  {
   "cell_type": "code",
   "execution_count": 2,
   "metadata": {
    "scrolled": true
   },
   "outputs": [],
   "source": [
    "# That Data\n",
    "df = pd.read_json('../../../Data/data.json')"
   ]
  },
  {
   "cell_type": "raw",
   "metadata": {},
   "source": [
    "df = pd.read_json('../../../Data/api_data.json')"
   ]
  },
  {
   "cell_type": "raw",
   "metadata": {},
   "source": [
    "temp = dict()\n",
    "temp = {'target': df['fraud'].copy(), \n",
    "        #'premium': df.acct_type.apply(lambda x: not_premium(x)),\n",
    "        'previous_payout': df.previous_payouts.apply(lambda x: no_previous_payout(x)),\n",
    "        'no_payout_name': df.previous_payouts.apply(lambda x: payout_name_flag(x)),\n",
    "        'payout_toself': df.apply(lambda x: payout_toself(x.payee_name, x.previous_payouts), axis = 1),\n",
    "        'missing_data': df.isnull().any(axis = 1) * 1\n",
    "       }"
   ]
  },
  {
   "cell_type": "code",
   "execution_count": 8,
   "metadata": {},
   "outputs": [],
   "source": [
    "import requests\n",
    "api_url='https://hxobin8em5.execute-api.us-west-2.amazonaws.com/api/'\n",
    "api_key='vYm9mTUuspeyAWH1v-acfoTlck-tCxwTw9YfCynC'\n",
    "\n",
    "def get_data(next_sequence_number):\n",
    "    \"\"\"Fetch data from the API.\"\"\"\n",
    "    payload = {'api_key': api_key,\n",
    "               'sequence_number': next_sequence_number}\n",
    "    response = requests.post(api_url, json=payload)\n",
    "    data = response.json()\n",
    "    next_sequence_number = data['_next_sequence_number']\n",
    "    return data['data']"
   ]
  },
  {
   "cell_type": "code",
   "execution_count": 9,
   "metadata": {},
   "outputs": [],
   "source": [
    "x = get_data(0)[0]"
   ]
  },
  {
   "cell_type": "code",
   "execution_count": 36,
   "metadata": {},
   "outputs": [],
   "source": [
    "import math \n",
    "\n",
    "def missing_data(x):\n",
    "    '''\n",
    "    Param:\n",
    "        x: dictionary\n",
    "    Return:\n",
    "        1 if missing value is found else 0\n",
    "    '''\n",
    "    for value in x.values():\n",
    "        if value == '':\n",
    "            return 1\n",
    "    return 0\n",
    "\n",
    "def no_previous_payout(x):\n",
    "    '''\n",
    "    Param:\n",
    "        list of previous payouts \n",
    "    '''\n",
    "    return 1 if len(x) <= 0 else 0\n",
    "\n",
    "def payout_name_flag(x):\n",
    "    '''\n",
    "    Param:\n",
    "        list of previous payouts \n",
    "    '''\n",
    "    for d in x:\n",
    "        if len(d['name']) < 3:\n",
    "            return 1\n",
    "    return 0\n",
    "\n",
    "def payout_toself(payee, payouts):\n",
    "    '''\n",
    "    Param:\n",
    "        payee: payee \n",
    "        payouts: list of previous payouts \n",
    "    '''\n",
    "    for pay in payouts:\n",
    "        if payee.lower() in pay['name'].lower():\n",
    "            return 1\n",
    "    return 0\n",
    "\n",
    "def payee_name_flag(x):\n",
    "    return 1 if len(x) < 3 else 0\n",
    "\n",
    "def delivery(x):\n",
    "    if math.isnan(x): return 0\n",
    "    return int(x)"
   ]
  },
  {
   "cell_type": "code",
   "execution_count": 45,
   "metadata": {},
   "outputs": [],
   "source": [
    "def parse_data(data):\n",
    "    '''\n",
    "        Param:\n",
    "            api data call\n",
    "    '''\n",
    "    temp = dict()\n",
    "    \n",
    "    if type(data) == type(dict()):\n",
    "        temp = {\n",
    "            'payout_toself': payout_toself(data['payee_name'], data['previous_payouts']),\n",
    "            'missing_data': missing_data(data),\n",
    "            'previous_payout': no_previous_payout(data['previous_payouts']),\n",
    "            'no_payout_name': payout_name_flag(data['previous_payouts']),\n",
    "            'no_payee_name': payee_name_flag(data['payee_name']),\n",
    "            'account_type': data['user_type'],\n",
    "            'delivery_method': delivery(data['delivery_method']),\n",
    "            'user_age': data['user_age']}\n",
    "    else:\n",
    "        temp = {\n",
    "            'payout_toself': data.apply(lambda x: payout_toself(x.payee_name, x.previous_payouts), axis = 1),\n",
    "            'missing_data': data.isnull().any(axis = 1) * 1,\n",
    "            'previous_payout': data.previous_payouts.apply(lambda x: no_previous_payout(x)),\n",
    "            'no_payout_name': data.previous_payouts.apply(lambda x: payout_name_flag(x)),\n",
    "            'no_payee_name': data.payee_name.apply(lambda x: payee_name_flag(x)),\n",
    "            'account_type': data.user_type,\n",
    "            'delivery_method': data.delivery_method.apply(lambda x: delivery(x)),\n",
    "            'user_age': data.user_age }\n",
    "    \n",
    "    return temp"
   ]
  },
  {
   "cell_type": "markdown",
   "metadata": {},
   "source": [
    "# Grid search 2"
   ]
  },
  {
   "cell_type": "code",
   "execution_count": 49,
   "metadata": {},
   "outputs": [],
   "source": [
    "X = pd.DataFrame(parse_data(df))\n",
    "y = df.acct_type.apply(lambda x: 1 if 'fraud' in x else 0)"
   ]
  },
  {
   "cell_type": "code",
   "execution_count": 51,
   "metadata": {},
   "outputs": [
    {
     "data": {
      "text/plain": [
       "0        1\n",
       "1        0\n",
       "2        0\n",
       "3        0\n",
       "4        0\n",
       "        ..\n",
       "14332    1\n",
       "14333    0\n",
       "14334    0\n",
       "14335    0\n",
       "14336    1\n",
       "Name: acct_type, Length: 14337, dtype: int64"
      ]
     },
     "execution_count": 51,
     "metadata": {},
     "output_type": "execute_result"
    }
   ],
   "source": [
    "y"
   ]
  },
  {
   "cell_type": "code",
   "execution_count": 56,
   "metadata": {},
   "outputs": [],
   "source": [
    "rfc = RandomForestClassifier(random_state=0)\n",
    "param_grid = { \n",
    "    'n_estimators': [100, 200, 500],\n",
    "    'max_features': ['auto', 'sqrt', 'log2'],\n",
    "    'max_depth' : [4,5,6,7,8],\n",
    "    'criterion' :['gini', 'entropy']\n",
    "}\n",
    "Xtrain, Xtest, ytrain, ytest = train_test_split(X, y)"
   ]
  },
  {
   "cell_type": "code",
   "execution_count": 59,
   "metadata": {},
   "outputs": [
    {
     "data": {
      "text/plain": [
       "{'criterion': 'gini',\n",
       " 'max_depth': 5,\n",
       " 'max_features': 'log2',\n",
       " 'n_estimators': 100}"
      ]
     },
     "execution_count": 59,
     "metadata": {},
     "output_type": "execute_result"
    }
   ],
   "source": [
    "CV_rfc = GridSearchCV(estimator = rfc, param_grid = param_grid, cv= 5)\n",
    "CV_rfc.fit(Xtrain, ytrain)\n",
    "params = CV_rfc.best_params_\n",
    "params"
   ]
  },
  {
   "cell_type": "code",
   "execution_count": 60,
   "metadata": {},
   "outputs": [],
   "source": [
    "def get_crosstab(X, y, model_type):\n",
    "    Xtrain, Xtest, ytrain, ytest = train_test_split(X, y)\n",
    "    model = model_type\n",
    "    model.fit(Xtrain, ytrain)\n",
    "    print(model.predict_proba(Xtest))\n",
    "    predicted = model.predict(Xtest)\n",
    "    actual = ytest\n",
    "    crosstab = pd.crosstab(ytest, model.predict(Xtest), rownames=['actual'], colnames=['predicted'])\n",
    "    return model, crosstab"
   ]
  },
  {
   "cell_type": "code",
   "execution_count": 69,
   "metadata": {},
   "outputs": [
    {
     "name": "stdout",
     "output_type": "stream",
     "text": [
      "[[0.97669346 0.02330654]\n",
      " [0.9902892  0.0097108 ]\n",
      " [0.03328363 0.96671637]\n",
      " ...\n",
      " [0.99498496 0.00501504]\n",
      " [0.98486094 0.01513906]\n",
      " [0.98101579 0.01898421]]\n"
     ]
    },
    {
     "data": {
      "text/plain": [
       "(RandomForestClassifier(max_depth=5, max_features='log2'),\n",
       " predicted     0    1\n",
       " actual              \n",
       " 0          3238   22\n",
       " 1            69  256)"
      ]
     },
     "execution_count": 69,
     "metadata": {},
     "output_type": "execute_result"
    }
   ],
   "source": [
    "get_crosstab(X, y, RandomForestClassifier(**params))"
   ]
  },
  {
   "cell_type": "code",
   "execution_count": null,
   "metadata": {},
   "outputs": [],
   "source": []
  }
 ],
 "metadata": {
  "kernelspec": {
   "display_name": "Python 3",
   "language": "python",
   "name": "python3"
  },
  "language_info": {
   "codemirror_mode": {
    "name": "ipython",
    "version": 3
   },
   "file_extension": ".py",
   "mimetype": "text/x-python",
   "name": "python",
   "nbconvert_exporter": "python",
   "pygments_lexer": "ipython3",
   "version": "3.8.5"
  }
 },
 "nbformat": 4,
 "nbformat_minor": 4
}
