{
 "cells": [
  {
   "cell_type": "code",
   "execution_count": 42,
   "metadata": {},
   "outputs": [],
   "source": [
    "# Imports \n",
    "import pandas as pd\n",
    "import numpy as np\n",
    "import matplotlib.pyplot as plt\n",
    "from bs4 import BeautifulSoup\n",
    "\n",
    "%matplotlib inline "
   ]
  },
  {
   "cell_type": "raw",
   "metadata": {},
   "source": [
    "# That Data\n",
    "df = pd.read_json('../../../Data/api_data.json')\n",
    "df.head(2).T"
   ]
  },
  {
   "cell_type": "raw",
   "metadata": {},
   "source": [
    "df = pd.read_json('../../../Data/api_data.json')"
   ]
  },
  {
   "cell_type": "raw",
   "metadata": {},
   "source": [
    "temp = dict()\n",
    "temp = {'target': df['fraud'].copy(), \n",
    "        #'premium': df.acct_type.apply(lambda x: not_premium(x)),\n",
    "        'previous_payout': df.previous_payouts.apply(lambda x: no_previous_payout(x)),\n",
    "        'no_payout_name': df.previous_payouts.apply(lambda x: payout_name_flag(x)),\n",
    "        'payout_toself': df.apply(lambda x: payout_toself(x.payee_name, x.previous_payouts), axis = 1),\n",
    "        'missing_data': df.isnull().any(axis = 1) * 1\n",
    "       }"
   ]
  },
  {
   "cell_type": "code",
   "execution_count": 28,
   "metadata": {},
   "outputs": [],
   "source": [
    "import requests\n",
    "api_url='https://hxobin8em5.execute-api.us-west-2.amazonaws.com/api/'\n",
    "api_key='vYm9mTUuspeyAWH1v-acfoTlck-tCxwTw9YfCynC'\n",
    "\n",
    "def get_data(next_sequence_number):\n",
    "    \"\"\"Fetch data from the API.\"\"\"\n",
    "    payload = {'api_key': api_key,\n",
    "               'sequence_number': next_sequence_number}\n",
    "    response = requests.post(api_url, json=payload)\n",
    "    data = response.json()\n",
    "    next_sequence_number = data['_next_sequence_number']\n",
    "    return data['data']"
   ]
  },
  {
   "cell_type": "code",
   "execution_count": 33,
   "metadata": {},
   "outputs": [],
   "source": [
    "x = get_data(0)[0]"
   ]
  },
  {
   "cell_type": "code",
   "execution_count": 70,
   "metadata": {},
   "outputs": [],
   "source": [
    "def missing_data(x):\n",
    "    '''\n",
    "    Param:\n",
    "        x: dictionary\n",
    "    Return:\n",
    "        1 if missing value is found else 0\n",
    "    '''\n",
    "    for value in x.values():\n",
    "        if value == '':\n",
    "            return 1\n",
    "    return 0\n",
    "\n",
    "def no_previous_payout(x):\n",
    "    '''\n",
    "    Param:\n",
    "        list of previous payouts \n",
    "    '''\n",
    "    return 1 if len(x) <= 0 else 0\n",
    "\n",
    "def payout_name_flag(x):\n",
    "    '''\n",
    "    Param:\n",
    "        list of previous payouts \n",
    "    '''\n",
    "    for d in x:\n",
    "        if len(d['name']) < 3:\n",
    "            return 1\n",
    "    return 0\n",
    "\n",
    "def payout_toself(payee, payouts):\n",
    "    '''\n",
    "    Param:\n",
    "        payee: payee \n",
    "        payouts: list of previous payouts \n",
    "    '''\n",
    "    for pay in payouts:\n",
    "        if payee.lower() in pay['name'].lower():\n",
    "            return 1\n",
    "    return 0\n",
    "\n",
    "def payee_name_flag(x):\n",
    "    return 1 if len(x) < 3 else 0"
   ]
  },
  {
   "cell_type": "code",
   "execution_count": 79,
   "metadata": {},
   "outputs": [],
   "source": [
    "def parse_data(data):\n",
    "    '''\n",
    "        Param:\n",
    "            api data call\n",
    "    '''\n",
    "    temp = {\n",
    "        'payout_toself': payout_toself(data['payee_name'], data['previous_payouts']),\n",
    "        'missing_data': missing_data(data),\n",
    "        'previous_payout': no_previous_payout(data['previous_payouts']),\n",
    "        'no_payout_name': payout_name_flag(data['previous_payouts']),\n",
    "        'no_payee_name': payee_name_flag(data['payee_name'])\n",
    "    }\n",
    "    \n",
    "    return temp\n"
   ]
  },
  {
   "cell_type": "code",
   "execution_count": 80,
   "metadata": {},
   "outputs": [
    {
     "data": {
      "text/plain": [
       "{'payout_toself': 1,\n",
       " 'missing_data': 1,\n",
       " 'previous_payout': 0,\n",
       " 'no_payout_name': 1,\n",
       " 'no_payee_name': 1}"
      ]
     },
     "execution_count": 80,
     "metadata": {},
     "output_type": "execute_result"
    }
   ],
   "source": [
    "parse_data(x)"
   ]
  },
  {
   "cell_type": "code",
   "execution_count": 36,
   "metadata": {},
   "outputs": [
    {
     "data": {
      "text/plain": [
       "dict"
      ]
     },
     "execution_count": 36,
     "metadata": {},
     "output_type": "execute_result"
    }
   ],
   "source": [
    "        #'premium': df.acct_type.apply(lambda x: not_premium(x)),\n",
    "        'previous_payout': df.previous_payouts.apply(lambda x: no_previous_payout(x)),\n",
    "        'no_payout_name': df.previous_payouts.apply(lambda x: payout_name_flag(x)),\n",
    "        'payout_toself': df.apply(lambda x: payout_toself(x.payee_name, x.previous_payouts), axis = 1),\n",
    "        'missing_data': df.isnull().any(axis = 1) * 1"
   ]
  },
  {
   "cell_type": "code",
   "execution_count": 10,
   "metadata": {},
   "outputs": [
    {
     "data": {
      "text/plain": [
       "{'event_id': 6224121, 'cost': 0.0, 'availability': 1, 'quantity_total': 50}"
      ]
     },
     "execution_count": 10,
     "metadata": {},
     "output_type": "execute_result"
    }
   ],
   "source": [
    "import pymongo\n",
    "import time\n",
    "import requests\n",
    "\n",
    "'''\n",
    "# Connect to Database\n",
    "db_client = pymongo.MongoClient('localhost', 27017)\n",
    "db = db_client['fraud']\n",
    "cases = db.cases\n",
    "\n",
    "# Start query at first item 0\n",
    "first_sequence_number=0\n",
    "next_sequence_number = first_sequence_number\n",
    "'''\n",
    "\n",
    "api_url='https://hxobin8em5.execute-api.us-west-2.amazonaws.com/api/'\n",
    "api_key='vYm9mTUuspeyAWH1v-acfoTlck-tCxwTw9YfCynC'\n",
    "\n",
    "def get_data(next_sequence_number):\n",
    "    \"\"\"Fetch data from the API.\"\"\"\n",
    "    payload = {'api_key': api_key,\n",
    "               'sequence_number': next_sequence_number}\n",
    "    response = requests.post(api_url, json=payload)\n",
    "    data = response.json()\n",
    "    next_sequence_number = data['_next_sequence_number']\n",
    "    return data['data']\n",
    "\n",
    "\n",
    "interval=30\n",
    "while interval <= 0:\n",
    "    print(\"Requesting data...\")\n",
    "    data = get_data(next_sequence_number)\n",
    "    if data:\n",
    "        print(\"Saving...\")\n",
    "        for row in data:\n",
    "            cases.insert_one(row)\n",
    "    else:\n",
    "        print(\"No new data received.\")\n",
    "    print(f\"Waiting {interval} seconds...\")\n",
    "    time.sleep(interval)"
   ]
  },
  {
   "cell_type": "code",
   "execution_count": 24,
   "metadata": {},
   "outputs": [
    {
     "data": {
      "text/plain": [
       "'This registration encompasses:\\n\\nAttendance or access to the recordings of the three free Hosted Conversations (April, May and June 2013)\\n3 tele-classes (Sept. 19th, Oct. 3rd and Oct. 17th 2013)\\nTuition, room and board* at the 6-day retreat Nov. 11th through 17th, 2013.\\n\\n* Double occupancy\\n\\nFor information about the full Program:\\ntrainingnvctrainers.com\\n\\xa0\\n\\xa0\\nRegister for the free Hosted Conversations by using these links:\\nhttp://www..ca/org/3122495530?s=12264216\\n\\nJoin us on Facebook:\\xa0\\nwww.facebook/trainingnvctrainers'"
      ]
     },
     "execution_count": 24,
     "metadata": {},
     "output_type": "execute_result"
    }
   ],
   "source": []
  },
  {
   "cell_type": "code",
   "execution_count": null,
   "metadata": {},
   "outputs": [],
   "source": []
  }
 ],
 "metadata": {
  "kernelspec": {
   "display_name": "Python 3",
   "language": "python",
   "name": "python3"
  },
  "language_info": {
   "codemirror_mode": {
    "name": "ipython",
    "version": 3
   },
   "file_extension": ".py",
   "mimetype": "text/x-python",
   "name": "python",
   "nbconvert_exporter": "python",
   "pygments_lexer": "ipython3",
   "version": "3.8.5"
  }
 },
 "nbformat": 4,
 "nbformat_minor": 4
}
