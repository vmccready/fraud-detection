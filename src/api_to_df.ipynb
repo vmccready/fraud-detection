{
 "cells": [
  {
   "cell_type": "code",
   "execution_count": 1,
   "metadata": {},
   "outputs": [],
   "source": [
    "# Imports \n",
    "import pandas as pd\n",
    "import numpy as np\n",
    "import matplotlib.pyplot as plt\n",
    "from bs4 import BeautifulSoup\n",
    "\n",
    "%matplotlib inline "
   ]
  },
  {
   "cell_type": "code",
   "execution_count": 2,
   "metadata": {
    "scrolled": true
   },
   "outputs": [],
   "source": [
    "# That Data\n",
    "df = pd.read_json('../../../Data/data.json')"
   ]
  },
  {
   "cell_type": "raw",
   "metadata": {},
   "source": [
    "df = pd.read_json('../../../Data/api_data.json')"
   ]
  },
  {
   "cell_type": "raw",
   "metadata": {},
   "source": [
    "temp = dict()\n",
    "temp = {'target': df['fraud'].copy(), \n",
    "        #'premium': df.acct_type.apply(lambda x: not_premium(x)),\n",
    "        'previous_payout': df.previous_payouts.apply(lambda x: no_previous_payout(x)),\n",
    "        'no_payout_name': df.previous_payouts.apply(lambda x: payout_name_flag(x)),\n",
    "        'payout_toself': df.apply(lambda x: payout_toself(x.payee_name, x.previous_payouts), axis = 1),\n",
    "        'missing_data': df.isnull().any(axis = 1) * 1\n",
    "       }"
   ]
  },
  {
   "cell_type": "code",
   "execution_count": 8,
   "metadata": {},
   "outputs": [],
   "source": [
    "import requests\n",
    "api_url='https://hxobin8em5.execute-api.us-west-2.amazonaws.com/api/'\n",
    "api_key='vYm9mTUuspeyAWH1v-acfoTlck-tCxwTw9YfCynC'\n",
    "\n",
    "def get_data(next_sequence_number):\n",
    "    \"\"\"Fetch data from the API.\"\"\"\n",
    "    payload = {'api_key': api_key,\n",
    "               'sequence_number': next_sequence_number}\n",
    "    response = requests.post(api_url, json=payload)\n",
    "    data = response.json()\n",
    "    next_sequence_number = data['_next_sequence_number']\n",
    "    return data['data']"
   ]
  },
  {
   "cell_type": "code",
   "execution_count": 9,
   "metadata": {},
   "outputs": [],
   "source": [
    "x = get_data(0)[0]"
   ]
  },
  {
   "cell_type": "code",
   "execution_count": 36,
   "metadata": {},
   "outputs": [],
   "source": [
    "import math \n",
    "\n",
    "def missing_data(x):\n",
    "    '''\n",
    "    Param:\n",
    "        x: dictionary\n",
    "    Return:\n",
    "        1 if missing value is found else 0\n",
    "    '''\n",
    "    for value in x.values():\n",
    "        if value == '':\n",
    "            return 1\n",
    "    return 0\n",
    "\n",
    "def no_previous_payout(x):\n",
    "    '''\n",
    "    Param:\n",
    "        list of previous payouts \n",
    "    '''\n",
    "    return 1 if len(x) <= 0 else 0\n",
    "\n",
    "def payout_name_flag(x):\n",
    "    '''\n",
    "    Param:\n",
    "        list of previous payouts \n",
    "    '''\n",
    "    for d in x:\n",
    "        if len(d['name']) < 3:\n",
    "            return 1\n",
    "    return 0\n",
    "\n",
    "def payout_toself(payee, payouts):\n",
    "    '''\n",
    "    Param:\n",
    "        payee: payee \n",
    "        payouts: list of previous payouts \n",
    "    '''\n",
    "    for pay in payouts:\n",
    "        if payee.lower() in pay['name'].lower():\n",
    "            return 1\n",
    "    return 0\n",
    "\n",
    "def payee_name_flag(x):\n",
    "    return 1 if len(x) < 3 else 0\n",
    "\n",
    "def delivery(x):\n",
    "    if math.isnan(x): return 0\n",
    "    return int(x)"
   ]
  },
  {
   "cell_type": "code",
   "execution_count": 45,
   "metadata": {},
   "outputs": [],
   "source": [
    "def parse_data(data):\n",
    "    '''\n",
    "        Param:\n",
    "            api data call\n",
    "    '''\n",
    "    temp = dict()\n",
    "    \n",
    "    if type(data) == type(dict()):\n",
    "        temp = {\n",
    "            'payout_toself': payout_toself(data['payee_name'], data['previous_payouts']),\n",
    "            'missing_data': missing_data(data),\n",
    "            'previous_payout': no_previous_payout(data['previous_payouts']),\n",
    "            'no_payout_name': payout_name_flag(data['previous_payouts']),\n",
    "            'no_payee_name': payee_name_flag(data['payee_name']),\n",
    "            'account_type': data['user_type'],\n",
    "            'delivery_method': delivery(data['delivery_method']),\n",
    "            'user_age': data['user_age']}\n",
    "    else:\n",
    "        temp = {\n",
    "            'payout_toself': data.apply(lambda x: payout_toself(x.payee_name, x.previous_payouts), axis = 1),\n",
    "            'missing_data': data.isnull().any(axis = 1) * 1,\n",
    "            'previous_payout': data.previous_payouts.apply(lambda x: no_previous_payout(x)),\n",
    "            'no_payout_name': data.previous_payouts.apply(lambda x: payout_name_flag(x)),\n",
    "            'no_payee_name': data.payee_name.apply(lambda x: payee_name_flag(x)),\n",
    "            'account_type': data.user_type,\n",
    "            'delivery_method': data.delivery_method.apply(lambda x: delivery(x)),\n",
    "            'user_age': data.user_age }\n",
    "    \n",
    "    return temp"
   ]
  },
  {
   "cell_type": "code",
   "execution_count": 43,
   "metadata": {},
   "outputs": [
    {
     "data": {
      "text/plain": [
       "{'payout_toself': 1,\n",
       " 'missing_data': 1,\n",
       " 'previous_payout': 0,\n",
       " 'no_payout_name': 1,\n",
       " 'no_payee_name': 1,\n",
       " 'account_type': 3,\n",
       " 'delivery_method': 1,\n",
       " 'user_age': 554}"
      ]
     },
     "execution_count": 43,
     "metadata": {},
     "output_type": "execute_result"
    }
   ],
   "source": [
    "parse_data(x)"
   ]
  },
  {
   "cell_type": "code",
   "execution_count": 44,
   "metadata": {},
   "outputs": [
    {
     "data": {
      "text/plain": [
       "{'payout_toself': 0        0\n",
       " 1        1\n",
       " 2        1\n",
       " 3        1\n",
       " 4        1\n",
       "         ..\n",
       " 14332    0\n",
       " 14333    1\n",
       " 14334    1\n",
       " 14335    1\n",
       " 14336    0\n",
       " Length: 14337, dtype: int64,\n",
       " 'missing_data': 0        0\n",
       " 1        0\n",
       " 2        1\n",
       " 3        1\n",
       " 4        0\n",
       "         ..\n",
       " 14332    1\n",
       " 14333    0\n",
       " 14334    0\n",
       " 14335    0\n",
       " 14336    1\n",
       " Length: 14337, dtype: int64,\n",
       " 'previous_payout': 0        1\n",
       " 1        0\n",
       " 2        0\n",
       " 3        0\n",
       " 4        0\n",
       "         ..\n",
       " 14332    1\n",
       " 14333    0\n",
       " 14334    0\n",
       " 14335    0\n",
       " 14336    1\n",
       " Name: previous_payouts, Length: 14337, dtype: int64,\n",
       " 'no_payout_name': 0        0\n",
       " 1        0\n",
       " 2        0\n",
       " 3        1\n",
       " 4        1\n",
       "         ..\n",
       " 14332    0\n",
       " 14333    0\n",
       " 14334    1\n",
       " 14335    1\n",
       " 14336    0\n",
       " Name: previous_payouts, Length: 14337, dtype: int64,\n",
       " 'no_payee_name': 0        1\n",
       " 1        0\n",
       " 2        0\n",
       " 3        1\n",
       " 4        0\n",
       "         ..\n",
       " 14332    1\n",
       " 14333    0\n",
       " 14334    1\n",
       " 14335    1\n",
       " 14336    1\n",
       " Name: payee_name, Length: 14337, dtype: int64,\n",
       " 'account_type': 0        1\n",
       " 1        3\n",
       " 2        3\n",
       " 3        3\n",
       " 4        3\n",
       "         ..\n",
       " 14332    1\n",
       " 14333    4\n",
       " 14334    4\n",
       " 14335    3\n",
       " 14336    1\n",
       " Name: user_type, Length: 14337, dtype: int64,\n",
       " 'delivery_method': 0        0\n",
       " 1        1\n",
       " 2        1\n",
       " 3        1\n",
       " 4        0\n",
       "         ..\n",
       " 14332    0\n",
       " 14333    1\n",
       " 14334    0\n",
       " 14335    0\n",
       " 14336    0\n",
       " Name: delivery_method, Length: 14337, dtype: int64,\n",
       " 'user_age': 0          36\n",
       " 1         149\n",
       " 2         214\n",
       " 3         889\n",
       " 4          35\n",
       "          ... \n",
       " 14332       0\n",
       " 14333    1374\n",
       " 14334      84\n",
       " 14335     812\n",
       " 14336       0\n",
       " Name: user_age, Length: 14337, dtype: int64}"
      ]
     },
     "execution_count": 44,
     "metadata": {},
     "output_type": "execute_result"
    }
   ],
   "source": [
    "parse_data(df)"
   ]
  },
  {
   "cell_type": "code",
   "execution_count": null,
   "metadata": {},
   "outputs": [],
   "source": [
    "df"
   ]
  },
  {
   "cell_type": "code",
   "execution_count": null,
   "metadata": {},
   "outputs": [],
   "source": []
  }
 ],
 "metadata": {
  "kernelspec": {
   "display_name": "Python 3",
   "language": "python",
   "name": "python3"
  },
  "language_info": {
   "codemirror_mode": {
    "name": "ipython",
    "version": 3
   },
   "file_extension": ".py",
   "mimetype": "text/x-python",
   "name": "python",
   "nbconvert_exporter": "python",
   "pygments_lexer": "ipython3",
   "version": "3.8.5"
  }
 },
 "nbformat": 4,
 "nbformat_minor": 4
}
